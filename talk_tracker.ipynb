{
  "nbformat": 4,
  "nbformat_minor": 0,
  "metadata": {
    "colab": {
      "provenance": [],
      "authorship_tag": "ABX9TyMGNYSd34j4VmRbRWypz08a",
      "include_colab_link": true
    },
    "kernelspec": {
      "name": "python3",
      "display_name": "Python 3"
    },
    "language_info": {
      "name": "python"
    }
  },
  "cells": [
    {
      "cell_type": "markdown",
      "metadata": {
        "id": "view-in-github",
        "colab_type": "text"
      },
      "source": [
        "<a href=\"https://colab.research.google.com/github/davidlealo/TalkTrack/blob/main/talk_tracker.ipynb\" target=\"_parent\"><img src=\"https://colab.research.google.com/assets/colab-badge.svg\" alt=\"Open In Colab\"/></a>"
      ]
    },
    {
      "cell_type": "code",
      "source": [
        "Instalación de libraries en Colab"
      ],
      "metadata": {
        "id": "6cSDGpWkZ1rI"
      },
      "execution_count": null,
      "outputs": []
    },
    {
      "cell_type": "code",
      "source": [
        "!pip install opencv-python-headless numpy openai-whisper moviepy torch torchvision\n",
        "!apt-get install -y ffmpeg\n"
      ],
      "metadata": {
        "id": "RCmmY-WhZaEi"
      },
      "execution_count": null,
      "outputs": []
    },
    {
      "cell_type": "markdown",
      "source": [
        "Carga de a las libraries a utilizar"
      ],
      "metadata": {
        "id": "nLu3HHnJZybC"
      }
    },
    {
      "cell_type": "code",
      "source": [
        "import cv2\n",
        "import whisper\n",
        "from google.colab import files\n",
        "from moviepy.editor import VideoFileClip\n",
        "from datetime import datetime\n",
        "import numpy as np\n",
        "import os"
      ],
      "metadata": {
        "colab": {
          "base_uri": "https://localhost:8080/"
        },
        "id": "rsOx7zRJZX4l",
        "outputId": "141f2d78-cb27-4061-fe3e-156b4c237a77"
      },
      "execution_count": 2,
      "outputs": [
        {
          "output_type": "stream",
          "name": "stderr",
          "text": [
            "WARNING:py.warnings:/usr/local/lib/python3.11/dist-packages/moviepy/video/io/sliders.py:61: SyntaxWarning: \"is\" with a literal. Did you mean \"==\"?\n",
            "  if event.key is 'enter':\n",
            "\n"
          ]
        }
      ]
    },
    {
      "cell_type": "code",
      "execution_count": null,
      "metadata": {
        "id": "gc1kiH4KY_r7"
      },
      "outputs": [],
      "source": [
        "\n",
        "\n",
        "# Configuración inicial\n",
        "VIDEO_FILE = \"uploaded_video.mov\"\n",
        "AUDIO_FILE = \"extracted_audio.wav\"\n",
        "TRANSCRIPTION_FILE = \"transcription_with_speakers.txt\"\n",
        "TEMP_VIDEO_FRAMES = \"temp_frames\"\n",
        "\n",
        "# Cargar el modelo Whisper\n",
        "whisper_model = whisper.load_model(\"base\")\n",
        "\n",
        "def upload_video():\n",
        "    \"\"\"Permite subir un archivo de video en formato .mov\"\"\"\n",
        "    print(\"Por favor, sube un archivo de video en formato .mov.\")\n",
        "    uploaded = files.upload()\n",
        "    if VIDEO_FILE in uploaded:\n",
        "        print(f\"Video {VIDEO_FILE} cargado exitosamente.\")\n",
        "    else:\n",
        "        raise FileNotFoundError(\"No se encontró el archivo de video esperado.\")\n",
        "\n",
        "def extract_audio_from_video(video_path, audio_path):\n",
        "    \"\"\"Extrae el audio de un archivo de video y lo guarda como .wav\"\"\"\n",
        "    try:\n",
        "        print(\"Extrayendo audio del video...\")\n",
        "        video = VideoFileClip(video_path)\n",
        "        video.audio.write_audiofile(audio_path)\n",
        "        print(f\"Audio extraído y guardado en: {audio_path}\")\n",
        "    except Exception as e:\n",
        "        raise RuntimeError(f\"Error al extraer el audio: {e}\")\n",
        "\n",
        "def process_video_frames(video_path):\n",
        "    \"\"\"Procesa los fotogramas del video para detectar personas y cambios de hablantes.\"\"\"\n",
        "    if not os.path.exists(TEMP_VIDEO_FRAMES):\n",
        "        os.makedirs(TEMP_VIDEO_FRAMES)\n",
        "\n",
        "    print(\"Procesando fotogramas del video...\")\n",
        "    cap = cv2.VideoCapture(video_path)\n",
        "    fps = int(cap.get(cv2.CAP_PROP_FPS))\n",
        "    frame_count = 0\n",
        "\n",
        "    speaker_changes = []\n",
        "    previous_frame = None\n",
        "    while cap.isOpened():\n",
        "        ret, frame = cap.read()\n",
        "        if not ret:\n",
        "            break\n",
        "\n",
        "        if frame_count % fps == 0:  # Procesar 1 frame por segundo\n",
        "            gray_frame = cv2.cvtColor(frame, cv2.COLOR_BGR2GRAY)\n",
        "            if previous_frame is not None:\n",
        "                diff = cv2.absdiff(previous_frame, gray_frame)\n",
        "                non_zero_count = np.count_nonzero(diff)\n",
        "\n",
        "                if non_zero_count > 10000:  # Umbral para detectar cambios significativos\n",
        "                    speaker_changes.append({\n",
        "                        \"time\": frame_count / fps,\n",
        "                        \"description\": \"Cambio de hablante detectado\"\n",
        "                    })\n",
        "\n",
        "            previous_frame = gray_frame\n",
        "\n",
        "        frame_count += 1\n",
        "\n",
        "    cap.release()\n",
        "    print(\"Procesamiento de fotogramas completado.\")\n",
        "    return speaker_changes\n",
        "\n",
        "def transcribe_audio_with_speakers(audio_path, speaker_changes):\n",
        "    \"\"\"Transcribe el audio y etiqueta segmentos con cambios de hablantes.\"\"\"\n",
        "    print(\"Iniciando la transcripción...\")\n",
        "    try:\n",
        "        result = whisper_model.transcribe(audio_path, language=\"es\")\n",
        "        segments = result[\"segments\"]\n",
        "        transcription = []\n",
        "\n",
        "        for segment in segments:\n",
        "            start_time = segment[\"start\"]\n",
        "            end_time = segment[\"end\"]\n",
        "            text = segment[\"text\"]\n",
        "\n",
        "            # Determinar el hablante en función de los cambios detectados\n",
        "            speaker = \"Desconocido\"\n",
        "            for change in speaker_changes:\n",
        "                if change[\"time\"] <= start_time <= (change[\"time\"] + 1):\n",
        "                    speaker = change[\"description\"]\n",
        "                    break\n",
        "\n",
        "            transcription.append(f\"[{start_time:.2f}-{end_time:.2f}] ({speaker}): {text}\")\n",
        "\n",
        "        with open(TRANSCRIPTION_FILE, \"w\") as f:\n",
        "            f.write(\"\\n\".join(transcription))\n",
        "        print(f\"Transcripción completada y guardada en {TRANSCRIPTION_FILE}\")\n",
        "\n",
        "    except Exception as e:\n",
        "        raise RuntimeError(f\"Error durante la transcripción: {e}\")\n",
        "\n",
        "def main():\n",
        "    try:\n",
        "        upload_video()\n",
        "        extract_audio_from_video(VIDEO_FILE, AUDIO_FILE)\n",
        "        speaker_changes = process_video_frames(VIDEO_FILE)\n",
        "        transcribe_audio_with_speakers(AUDIO_FILE, speaker_changes)\n",
        "    except Exception as e:\n",
        "        print(f\"Error: {e}\")\n",
        "\n",
        "if __name__ == \"__main__\":\n",
        "    main()\n"
      ]
    }
  ]
}