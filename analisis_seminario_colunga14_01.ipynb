{
  "cells": [
    {
      "cell_type": "markdown",
      "metadata": {
        "id": "view-in-github",
        "colab_type": "text"
      },
      "source": [
        "<a href=\"https://colab.research.google.com/github/davidlealo/TalkTrack/blob/main/analisis_seminario_colunga14_01.ipynb\" target=\"_parent\"><img src=\"https://colab.research.google.com/assets/colab-badge.svg\" alt=\"Open In Colab\"/></a>"
      ]
    },
    {
      "cell_type": "markdown",
      "metadata": {
        "id": "mqLzJIiyvbKW"
      },
      "source": [
        "## Transcribir texto"
      ]
    },
    {
      "cell_type": "code",
      "execution_count": 1,
      "metadata": {
        "colab": {
          "base_uri": "https://localhost:8080/"
        },
        "id": "VDV8I2VvH0Rj",
        "outputId": "8eda5ec4-0bbb-4ea6-a708-94a687518581"
      },
      "outputs": [
        {
          "output_type": "stream",
          "name": "stdout",
          "text": [
            "Collecting git+https://github.com/openai/whisper\n",
            "  Cloning https://github.com/openai/whisper to /tmp/pip-req-build-_53o0h4f\n",
            "  Running command git clone --filter=blob:none --quiet https://github.com/openai/whisper /tmp/pip-req-build-_53o0h4f\n",
            "  Resolved https://github.com/openai/whisper to commit 517a43ecd132a2089d85f4ebc044728a71d49f6e\n",
            "  Installing build dependencies ... \u001b[?25l\u001b[?25hdone\n",
            "  Getting requirements to build wheel ... \u001b[?25l\u001b[?25hdone\n",
            "  Preparing metadata (pyproject.toml) ... \u001b[?25l\u001b[?25hdone\n",
            "Requirement already satisfied: more-itertools in /usr/local/lib/python3.11/dist-packages (from openai-whisper==20240930) (10.5.0)\n",
            "Requirement already satisfied: numba in /usr/local/lib/python3.11/dist-packages (from openai-whisper==20240930) (0.60.0)\n",
            "Requirement already satisfied: numpy in /usr/local/lib/python3.11/dist-packages (from openai-whisper==20240930) (1.26.4)\n",
            "Collecting tiktoken (from openai-whisper==20240930)\n",
            "  Downloading tiktoken-0.8.0-cp311-cp311-manylinux_2_17_x86_64.manylinux2014_x86_64.whl.metadata (6.6 kB)\n",
            "Requirement already satisfied: torch in /usr/local/lib/python3.11/dist-packages (from openai-whisper==20240930) (2.5.1+cu121)\n",
            "Requirement already satisfied: tqdm in /usr/local/lib/python3.11/dist-packages (from openai-whisper==20240930) (4.67.1)\n",
            "Requirement already satisfied: triton>=2 in /usr/local/lib/python3.11/dist-packages (from openai-whisper==20240930) (3.1.0)\n",
            "Requirement already satisfied: filelock in /usr/local/lib/python3.11/dist-packages (from triton>=2->openai-whisper==20240930) (3.16.1)\n",
            "Requirement already satisfied: llvmlite<0.44,>=0.43.0dev0 in /usr/local/lib/python3.11/dist-packages (from numba->openai-whisper==20240930) (0.43.0)\n",
            "Requirement already satisfied: regex>=2022.1.18 in /usr/local/lib/python3.11/dist-packages (from tiktoken->openai-whisper==20240930) (2024.11.6)\n",
            "Requirement already satisfied: requests>=2.26.0 in /usr/local/lib/python3.11/dist-packages (from tiktoken->openai-whisper==20240930) (2.32.3)\n",
            "Requirement already satisfied: typing-extensions>=4.8.0 in /usr/local/lib/python3.11/dist-packages (from torch->openai-whisper==20240930) (4.12.2)\n",
            "Requirement already satisfied: networkx in /usr/local/lib/python3.11/dist-packages (from torch->openai-whisper==20240930) (3.4.2)\n",
            "Requirement already satisfied: jinja2 in /usr/local/lib/python3.11/dist-packages (from torch->openai-whisper==20240930) (3.1.5)\n",
            "Requirement already satisfied: fsspec in /usr/local/lib/python3.11/dist-packages (from torch->openai-whisper==20240930) (2024.10.0)\n",
            "Requirement already satisfied: nvidia-cuda-nvrtc-cu12==12.1.105 in /usr/local/lib/python3.11/dist-packages (from torch->openai-whisper==20240930) (12.1.105)\n",
            "Requirement already satisfied: nvidia-cuda-runtime-cu12==12.1.105 in /usr/local/lib/python3.11/dist-packages (from torch->openai-whisper==20240930) (12.1.105)\n",
            "Requirement already satisfied: nvidia-cuda-cupti-cu12==12.1.105 in /usr/local/lib/python3.11/dist-packages (from torch->openai-whisper==20240930) (12.1.105)\n",
            "Requirement already satisfied: nvidia-cudnn-cu12==9.1.0.70 in /usr/local/lib/python3.11/dist-packages (from torch->openai-whisper==20240930) (9.1.0.70)\n",
            "Requirement already satisfied: nvidia-cublas-cu12==12.1.3.1 in /usr/local/lib/python3.11/dist-packages (from torch->openai-whisper==20240930) (12.1.3.1)\n",
            "Requirement already satisfied: nvidia-cufft-cu12==11.0.2.54 in /usr/local/lib/python3.11/dist-packages (from torch->openai-whisper==20240930) (11.0.2.54)\n",
            "Requirement already satisfied: nvidia-curand-cu12==10.3.2.106 in /usr/local/lib/python3.11/dist-packages (from torch->openai-whisper==20240930) (10.3.2.106)\n",
            "Requirement already satisfied: nvidia-cusolver-cu12==11.4.5.107 in /usr/local/lib/python3.11/dist-packages (from torch->openai-whisper==20240930) (11.4.5.107)\n",
            "Requirement already satisfied: nvidia-cusparse-cu12==12.1.0.106 in /usr/local/lib/python3.11/dist-packages (from torch->openai-whisper==20240930) (12.1.0.106)\n",
            "Requirement already satisfied: nvidia-nccl-cu12==2.21.5 in /usr/local/lib/python3.11/dist-packages (from torch->openai-whisper==20240930) (2.21.5)\n",
            "Requirement already satisfied: nvidia-nvtx-cu12==12.1.105 in /usr/local/lib/python3.11/dist-packages (from torch->openai-whisper==20240930) (12.1.105)\n",
            "Requirement already satisfied: sympy==1.13.1 in /usr/local/lib/python3.11/dist-packages (from torch->openai-whisper==20240930) (1.13.1)\n",
            "Requirement already satisfied: nvidia-nvjitlink-cu12 in /usr/local/lib/python3.11/dist-packages (from nvidia-cusolver-cu12==11.4.5.107->torch->openai-whisper==20240930) (12.6.85)\n",
            "Requirement already satisfied: mpmath<1.4,>=1.1.0 in /usr/local/lib/python3.11/dist-packages (from sympy==1.13.1->torch->openai-whisper==20240930) (1.3.0)\n",
            "Requirement already satisfied: charset-normalizer<4,>=2 in /usr/local/lib/python3.11/dist-packages (from requests>=2.26.0->tiktoken->openai-whisper==20240930) (3.4.1)\n",
            "Requirement already satisfied: idna<4,>=2.5 in /usr/local/lib/python3.11/dist-packages (from requests>=2.26.0->tiktoken->openai-whisper==20240930) (3.10)\n",
            "Requirement already satisfied: urllib3<3,>=1.21.1 in /usr/local/lib/python3.11/dist-packages (from requests>=2.26.0->tiktoken->openai-whisper==20240930) (2.3.0)\n",
            "Requirement already satisfied: certifi>=2017.4.17 in /usr/local/lib/python3.11/dist-packages (from requests>=2.26.0->tiktoken->openai-whisper==20240930) (2024.12.14)\n",
            "Requirement already satisfied: MarkupSafe>=2.0 in /usr/local/lib/python3.11/dist-packages (from jinja2->torch->openai-whisper==20240930) (3.0.2)\n",
            "Downloading tiktoken-0.8.0-cp311-cp311-manylinux_2_17_x86_64.manylinux2014_x86_64.whl (1.2 MB)\n",
            "\u001b[2K   \u001b[90m━━━━━━━━━━━━━━━━━━━━━━━━━━━━━━━━━━━━━━━━\u001b[0m \u001b[32m1.2/1.2 MB\u001b[0m \u001b[31m15.3 MB/s\u001b[0m eta \u001b[36m0:00:00\u001b[0m\n",
            "\u001b[?25hBuilding wheels for collected packages: openai-whisper\n",
            "  Building wheel for openai-whisper (pyproject.toml) ... \u001b[?25l\u001b[?25hdone\n",
            "  Created wheel for openai-whisper: filename=openai_whisper-20240930-py3-none-any.whl size=803669 sha256=fab268ef64e47024ffecf6ec84b9614823b34a57b4321f25ba9fad08a1e6d107\n",
            "  Stored in directory: /tmp/pip-ephem-wheel-cache-ia94ox8v/wheels/51/d4/af/7f87f0769301da47905e3197b7fca6593e58dc0ea98997f9d3\n",
            "Successfully built openai-whisper\n",
            "Installing collected packages: tiktoken, openai-whisper\n",
            "Successfully installed openai-whisper-20240930 tiktoken-0.8.0\n"
          ]
        }
      ],
      "source": [
        "!pip install git+https://github.com/openai/whisper\n"
      ]
    },
    {
      "cell_type": "code",
      "execution_count": 2,
      "metadata": {
        "colab": {
          "base_uri": "https://localhost:8080/",
          "height": 92
        },
        "id": "dU4QXyqsugX0",
        "outputId": "1c59e432-dece-4848-c93f-00251c97907a"
      },
      "outputs": [
        {
          "output_type": "display_data",
          "data": {
            "text/plain": [
              "<IPython.core.display.HTML object>"
            ],
            "text/html": [
              "\n",
              "     <input type=\"file\" id=\"files-8faea3e1-2c97-4b1c-8c2b-e8d67ccf9b4f\" name=\"files[]\" multiple disabled\n",
              "        style=\"border:none\" />\n",
              "     <output id=\"result-8faea3e1-2c97-4b1c-8c2b-e8d67ccf9b4f\">\n",
              "      Upload widget is only available when the cell has been executed in the\n",
              "      current browser session. Please rerun this cell to enable.\n",
              "      </output>\n",
              "      <script>// Copyright 2017 Google LLC\n",
              "//\n",
              "// Licensed under the Apache License, Version 2.0 (the \"License\");\n",
              "// you may not use this file except in compliance with the License.\n",
              "// You may obtain a copy of the License at\n",
              "//\n",
              "//      http://www.apache.org/licenses/LICENSE-2.0\n",
              "//\n",
              "// Unless required by applicable law or agreed to in writing, software\n",
              "// distributed under the License is distributed on an \"AS IS\" BASIS,\n",
              "// WITHOUT WARRANTIES OR CONDITIONS OF ANY KIND, either express or implied.\n",
              "// See the License for the specific language governing permissions and\n",
              "// limitations under the License.\n",
              "\n",
              "/**\n",
              " * @fileoverview Helpers for google.colab Python module.\n",
              " */\n",
              "(function(scope) {\n",
              "function span(text, styleAttributes = {}) {\n",
              "  const element = document.createElement('span');\n",
              "  element.textContent = text;\n",
              "  for (const key of Object.keys(styleAttributes)) {\n",
              "    element.style[key] = styleAttributes[key];\n",
              "  }\n",
              "  return element;\n",
              "}\n",
              "\n",
              "// Max number of bytes which will be uploaded at a time.\n",
              "const MAX_PAYLOAD_SIZE = 100 * 1024;\n",
              "\n",
              "function _uploadFiles(inputId, outputId) {\n",
              "  const steps = uploadFilesStep(inputId, outputId);\n",
              "  const outputElement = document.getElementById(outputId);\n",
              "  // Cache steps on the outputElement to make it available for the next call\n",
              "  // to uploadFilesContinue from Python.\n",
              "  outputElement.steps = steps;\n",
              "\n",
              "  return _uploadFilesContinue(outputId);\n",
              "}\n",
              "\n",
              "// This is roughly an async generator (not supported in the browser yet),\n",
              "// where there are multiple asynchronous steps and the Python side is going\n",
              "// to poll for completion of each step.\n",
              "// This uses a Promise to block the python side on completion of each step,\n",
              "// then passes the result of the previous step as the input to the next step.\n",
              "function _uploadFilesContinue(outputId) {\n",
              "  const outputElement = document.getElementById(outputId);\n",
              "  const steps = outputElement.steps;\n",
              "\n",
              "  const next = steps.next(outputElement.lastPromiseValue);\n",
              "  return Promise.resolve(next.value.promise).then((value) => {\n",
              "    // Cache the last promise value to make it available to the next\n",
              "    // step of the generator.\n",
              "    outputElement.lastPromiseValue = value;\n",
              "    return next.value.response;\n",
              "  });\n",
              "}\n",
              "\n",
              "/**\n",
              " * Generator function which is called between each async step of the upload\n",
              " * process.\n",
              " * @param {string} inputId Element ID of the input file picker element.\n",
              " * @param {string} outputId Element ID of the output display.\n",
              " * @return {!Iterable<!Object>} Iterable of next steps.\n",
              " */\n",
              "function* uploadFilesStep(inputId, outputId) {\n",
              "  const inputElement = document.getElementById(inputId);\n",
              "  inputElement.disabled = false;\n",
              "\n",
              "  const outputElement = document.getElementById(outputId);\n",
              "  outputElement.innerHTML = '';\n",
              "\n",
              "  const pickedPromise = new Promise((resolve) => {\n",
              "    inputElement.addEventListener('change', (e) => {\n",
              "      resolve(e.target.files);\n",
              "    });\n",
              "  });\n",
              "\n",
              "  const cancel = document.createElement('button');\n",
              "  inputElement.parentElement.appendChild(cancel);\n",
              "  cancel.textContent = 'Cancel upload';\n",
              "  const cancelPromise = new Promise((resolve) => {\n",
              "    cancel.onclick = () => {\n",
              "      resolve(null);\n",
              "    };\n",
              "  });\n",
              "\n",
              "  // Wait for the user to pick the files.\n",
              "  const files = yield {\n",
              "    promise: Promise.race([pickedPromise, cancelPromise]),\n",
              "    response: {\n",
              "      action: 'starting',\n",
              "    }\n",
              "  };\n",
              "\n",
              "  cancel.remove();\n",
              "\n",
              "  // Disable the input element since further picks are not allowed.\n",
              "  inputElement.disabled = true;\n",
              "\n",
              "  if (!files) {\n",
              "    return {\n",
              "      response: {\n",
              "        action: 'complete',\n",
              "      }\n",
              "    };\n",
              "  }\n",
              "\n",
              "  for (const file of files) {\n",
              "    const li = document.createElement('li');\n",
              "    li.append(span(file.name, {fontWeight: 'bold'}));\n",
              "    li.append(span(\n",
              "        `(${file.type || 'n/a'}) - ${file.size} bytes, ` +\n",
              "        `last modified: ${\n",
              "            file.lastModifiedDate ? file.lastModifiedDate.toLocaleDateString() :\n",
              "                                    'n/a'} - `));\n",
              "    const percent = span('0% done');\n",
              "    li.appendChild(percent);\n",
              "\n",
              "    outputElement.appendChild(li);\n",
              "\n",
              "    const fileDataPromise = new Promise((resolve) => {\n",
              "      const reader = new FileReader();\n",
              "      reader.onload = (e) => {\n",
              "        resolve(e.target.result);\n",
              "      };\n",
              "      reader.readAsArrayBuffer(file);\n",
              "    });\n",
              "    // Wait for the data to be ready.\n",
              "    let fileData = yield {\n",
              "      promise: fileDataPromise,\n",
              "      response: {\n",
              "        action: 'continue',\n",
              "      }\n",
              "    };\n",
              "\n",
              "    // Use a chunked sending to avoid message size limits. See b/62115660.\n",
              "    let position = 0;\n",
              "    do {\n",
              "      const length = Math.min(fileData.byteLength - position, MAX_PAYLOAD_SIZE);\n",
              "      const chunk = new Uint8Array(fileData, position, length);\n",
              "      position += length;\n",
              "\n",
              "      const base64 = btoa(String.fromCharCode.apply(null, chunk));\n",
              "      yield {\n",
              "        response: {\n",
              "          action: 'append',\n",
              "          file: file.name,\n",
              "          data: base64,\n",
              "        },\n",
              "      };\n",
              "\n",
              "      let percentDone = fileData.byteLength === 0 ?\n",
              "          100 :\n",
              "          Math.round((position / fileData.byteLength) * 100);\n",
              "      percent.textContent = `${percentDone}% done`;\n",
              "\n",
              "    } while (position < fileData.byteLength);\n",
              "  }\n",
              "\n",
              "  // All done.\n",
              "  yield {\n",
              "    response: {\n",
              "      action: 'complete',\n",
              "    }\n",
              "  };\n",
              "}\n",
              "\n",
              "scope.google = scope.google || {};\n",
              "scope.google.colab = scope.google.colab || {};\n",
              "scope.google.colab._files = {\n",
              "  _uploadFiles,\n",
              "  _uploadFilesContinue,\n",
              "};\n",
              "})(self);\n",
              "</script> "
            ]
          },
          "metadata": {}
        },
        {
          "output_type": "stream",
          "name": "stdout",
          "text": [
            "Saving Conversatorio mesa educacion.m4a to Conversatorio mesa educacion.m4a\n",
            "Archivo de audio subido: Conversatorio mesa educacion.m4a\n"
          ]
        }
      ],
      "source": [
        "from google.colab import files\n",
        "\n",
        "# Subir un archivo de audio desde tu computadora\n",
        "uploaded = files.upload()\n",
        "\n",
        "# Extraer el nombre del archivo subido\n",
        "audio_file = list(uploaded.keys())[0]\n",
        "print(f\"Archivo de audio subido: {audio_file}\")\n"
      ]
    },
    {
      "cell_type": "code",
      "execution_count": 3,
      "metadata": {
        "colab": {
          "base_uri": "https://localhost:8080/"
        },
        "id": "0eoNzO-AumOy",
        "outputId": "5b0d8a1a-1143-499d-c5f7-0b75406ea7f6"
      },
      "outputs": [
        {
          "output_type": "stream",
          "name": "stderr",
          "text": [
            "100%|█████████████████████████████████████| 2.88G/2.88G [00:39<00:00, 77.4MiB/s]\n",
            "/usr/local/lib/python3.11/dist-packages/whisper/__init__.py:150: FutureWarning: You are using `torch.load` with `weights_only=False` (the current default value), which uses the default pickle module implicitly. It is possible to construct malicious pickle data which will execute arbitrary code during unpickling (See https://github.com/pytorch/pytorch/blob/main/SECURITY.md#untrusted-models for more details). In a future release, the default value for `weights_only` will be flipped to `True`. This limits the functions that could be executed during unpickling. Arbitrary objects will no longer be allowed to be loaded via this mode unless they are explicitly allowlisted by the user via `torch.serialization.add_safe_globals`. We recommend you start setting `weights_only=True` for any use case where you don't have full control of the loaded file. Please open an issue on GitHub for any issues related to this experimental feature.\n",
            "  checkpoint = torch.load(fp, map_location=device)\n"
          ]
        },
        {
          "output_type": "stream",
          "name": "stdout",
          "text": [
            "Transcripción:\n",
            "  La Mesa de Educación es un tema que hoy más que nunca es crucial para transformar la manera que construimos y vivimos de nuestra vida. Por lo previamente me gustaría mencionar que la comunidad de la Universidad de La Haya es una red de más de 200 personas que se encuentran en la Universidad de La Haya y que nos unimos para construir una universidad más fácil y sostenible que, sin colaboración ni encuentro, permita que todas las personas en situaciones de vulnerabilidad y exceso puedan ser fuertes de la universidad. La Mesa de Educación se organizó en un conversatorio en el año 2018 y actualmente está conformada por la Universidad de La Haya. Uno de los temas que ha estado trabajando durante todo el año ha sido la innovación educativa, que tiene un papel muy importante dado el mundo en constante cambio tras un cambio. La tecnología avanza y la necesidad de aprendizaje se vive a su fin. La educación es el plan fundamental de nuestra sociedad. Debe adaptarse a estos tiempos. Y en este contexto, la innovación educativa se presenta como una herramienta clave para reducir y mejorar nuestros métodos de enseñanza y aprendizaje. Hoy vamos a compartir experiencias, reflexionaremos sobre cómo podemos construir un sistema educativo más inclusivo, asistible, preparado para el resto de los estudiantes y de la estructura. En este conversatorio tendremos la oportunidad con la Universidad de La Haya de ser expertos y aprender de las experiencias que ya están transformando el panorama educativo, tanto en el ciclo con el proyecto de la Universidad de La Haya. Como a nivel mundial por ejemplo. Y os invito a participar y encontrar inspiración para disfrutar de innovaciones de propias comunidades y entornos educativos. Muchas gracias y agradezco a Bárbara también para presentar esta experiencia. Abrazo, ¿no? Bravo. Gracias. go go Potable. Relblicki Enf scene de este evento esto sería entonces eventual el acar leaving cili se puede empezar gracias al inglés y no pero si te refería en esta ocasión iante es importante que la universidad donde se entendió como investigadora en política localizada. Actualmente, era maya en la carrera de Cultura y Comunicaciones, la bajada de Finlandia en Chile. Su experiencia abarca el diseño y implementación de evaluaciones de proyectos educativos en América Latina. Un aplauso para Eva. También nos acompaña Adriana Valle, coordinadora de Innovación y Tecnología del Colegio Alberto Mezcana, ubicado en la comuna de San Ramón, en la región de Tamanitana. De ese modo, su presencia viene en la presentación de Ricardo, que es el director que tiene una acción en el sistema, que se nos tuvo la oportunidad de... Esperamos que se esté recuperando. El Colegio Alberto Mezcana es una institución educativa que ha sido reconocida internacionalmente. Siendo la única en Chile en participar en la World Education Week 2020, un evento que reunió a las cinco mejores escuelas del mundo. En el nuevo premio. El Colegio Lesgarda ha implementado diversas iniciativas innovadoras, como la creación de un laboratorio de fabricación digital, que utiliza nuevas tecnologías para aumentar la creatividad entre los estudiantes. Un aplauso para Fabián. Gracias. Gracias. Gracias. Gracias. Gracias. Gracias. Gracias. Gracias. Gracias. Gracias. Gracias. Gracias. Gracias. Gracias. Gracias. Gracias. Gracias. Gracias. Gracias. Gracias. Gracias. Gracias. Gracias. Gracias. Gracias. Gracias. Gracias. Gracias. Gracias. Gracias. Gracias. Gracias. Gracias. Gracias. Hoy día vamos a hablar un poco sobre la excelencia de Finlandia, un tema que nos ha dado muchas miradas. Pero vamos a enfocarnos en la innovación educativa a nivel estructural y también un poquito a nivel de aula. El ingreso de profesores de educación también, la inclusión de profesores de educación general básica, y se ni conocen los sectores de la vida, y también de magistra de educación, como tal vez han escuchado todos los docentes de Finlandia, que quieren tener un magistra de educación y demás. Y bueno, hoy día vamos a hablar sobre algunos temas generales, y después feliz de escuchar sus preguntas, comentarios, y la idea de conversar, no voy a profundizar tanto en ningún tema en específico, pero espero que ahí después vayan haciendo sus preguntas en estos temas que les interesen. A nivel general, Finlandia, tal vez lo han escuchado todo el país, tal vez específicamente Finlandia, tal vez específicamente por la educación, la gente que trabaja en educación ha escuchado sobre el caso de Finlandia, pero es un país muy pequeño, y tal vez la historia no es tan conocida. Finlandia es un país que hoy en día tiene como 5.000 y medio de habitantes, de los que no entiendo. Y además, a inicios de 1900, hasta mediados de 1900, en los décadas 60, 70, era uno de los países más pobres de Europa. No era el país que conocíamos hoy en día. Se lo han desarrollado, y se lo han utilizado como uno de los mejores países para vivir, uno de los países más felices del mundo. Y en realidad, eso se debe en gran parte a su sistema educativo, a las reformas que se han implementado. Y desde los inicios, desde los 1800, se hablaba de que en realidad la fuerza de la nación que viene, está en su educación. Eso dijo en 1800, Inés Nermann, que es un filósofo, que es un filósofo que trabajó mucho también en la construcción de la identidad nacional. Eso se ve muy fuertemente reflejado incluso hoy en día, en lo que vemos en la sociedad. ¿Y por qué hablamos tanto de Finlandia en general? Bueno, Finlandia salió como a la fama, entre comillas, mundial, en educación por los resultados de PISA. En 2010, por ahí, cuando empezó a salir primero, cuando se empezaron a implementar estas evaluaciones de PISA de la OCDE. Pero fue como bastante contradictorio, porque Finlandia nunca tuvo mucho énfasis en las pruebas estandarizadas, en realidad no tiene pruebas estandarizadas a nivel nacional. Y por eso fue como una sorpresa para todos, que Finlandia en estas pruebas igual les iba bien a los estudiantes. Y al inicio, como que la primera vez era como, ah, curioso, sorprendió incluso a los finlandeses. Después, la segunda vez, tercera vez, y la gente empezó a mirar, ¿por qué a Finlandia les iba bien en PISA? Pero además, hoy en día, bueno, las pruebas PISA, como que los resultados no están, ahora no es el primero, pero sigue siendo entre los primeros países. Pero además de eso, hay muchos otros indicadores que nos muestran que en Finlandia, en realidad los estudiantes, bueno, son felices, mucho más felices que tal vez en sistemas que son de alta exigencia, que generan mucha presión hacia los estudiantes. En Finlandia, el foco ha sido más en, apoyar a los estudiantes de una forma más integral, y es el país más feliz del mundo según el informe de la ONU, ya por séptimo vez más en Finlandia. Entonces eso es algo que tiene que ver con la educación también. Es un sistema educativo que prepara para el futuro, es el primer país en el índice de educación para el futuro de economía. Además, trabaja en habilidades digitales, según el índice de competitividad global del Fondo Económico Mundial, de la mejor forma, también es el número uno, alfabetización mediática, está muy vinculado a la transformación digital, y que voy a profundizar un poquito en eso. También ha sido el primer país en el que se empezó a implementar este índice, por Open Society Institute, en 2017, y también ahora salieron desde hace poco los resultados de la ONCE de la prueba JAK, que fue una encuesta en realidad pedagógica y además de la PISA, que emitió la prueba de habilidades digitales. Y también la prueba de la educación de los estudiantes. Además, los adultos en Finlandia tienen competencias, que nos preparan para tener una vida con oportunidades que respondan a las necesidades del futuro de la vida. Entonces, hoy día quiero profundizar en algunos principios que han permitido éxito entre comunidades, pero también en otras cosas que seguimos desarrollando, porque un sistema educativo está como listo, está como perfecto, también tenemos muchos desafíos, y siempre además las sociedades van cambiando, entonces nosotros tenemos que ir adelantándonos y participando en los desafíos que vienen, y eso es el mismo tema de Finlandia, de Chile, en todos los países del mundo necesitamos estar atentos a lo que está pasando a nuestros estudiantes, porque necesitan nuestros estudiantes los cambios que vemos en la sociedad, porque nuestras escuelas son un reflejo de la sociedad que tenemos, y no está como aislado de los desafíos que generalmente tenemos. Los principios generales de Finlandia que han de alguna forma facilitado este éxito, donde las brechas de aprendizaje son uno de los menos amplios entre los países que se preparan en educación, es un nivel con un enfoque muy fuerte en la igualdad de oportunidades. En Finlandia no se hacen rankings de las mejores escuelas, las familias en general no eligen la escuela donde quieren que vaya su hijo o hija, sino que hay un principio de la escuela más cercana, como la escuela del barrio, y las familias confían en esa escuela que quedó siempre en mi casa, porque en realidad desde el inicio de las reformas educativas, en los años 60, 70, el enfoque siempre fue en que todas las escuelas tienen que ser buenas, ofrecer buenas oportunidades, tal vez no las mejores escuelas de excelencia, sino que todas las escuelas sean buenas. Y eso ha resultado bastante bien. Además, se basa en la confianza y la autonomía hacia los profesionales de la educación, porque como comenté antes, los profesores, por ejemplo, tienen un muy alto nivel de educativo, entonces hay mucha confianza en los profesionales, en que ellos saben, conocen a sus estudiantes, que son especialistas, que pueden tomar decisiones pedagógicas, pero también hay confianza en los estudiantes, se trabaja la autonomía de forma gradual respecto a la educación procuraria, un valor muy importante en la educación finlandesa, que no podemos hacer las cosas por nuestros niños y niñas, sino que ellos van aprendiendo cosas muy prácticas, cotidianas, que también se puede considerar como una innovación, porque promueve el aprendizaje profundo, y también no es algo que se hace en todos los contextos. Además, la colaboración es un elemento muy importante. No hay conferencia entre colegios, como comenté, no hay rankings, pero además, adentro de los colegios, de los establecimientos educativos, se trabaja mucho en equipo, se trabaja en una forma colaborativa, además los docentes trabajan en una forma colaborativa para sacar nuevas ideas, para promover la innovación, hay también formación entre pares, para que los docentes se puedan apoyar entre ellos, entonces la colaboración es fundamental y también facilita la innovación. Y el aprendizaje activo centrado en estudiantes. Eso que digo que ser profesor en cualquier lugar siempre va a ser un tremendo desafío, porque tienes un grupo de personas, que todos son profesoras diferentes, que aprenden de formas diferentes, que tienen intereses diferentes, y un profesor o profesora tiene que conocer al estudiante, buscar cómo motivarlo, cómo aprende, qué le interesa, y es un trabajo constante, pero es necesario para promover el aprendizaje profundo. Necesitamos el aprendizaje activo, que los estudiantes aprendan haciendo, que se consideren sus intereses, que tengan protagonismo, y esto es algo que se ha trabajado desde muchísimos años en las aulas finlandesas. Y el bienestar y aprendizaje integral, como comenté respecto a la felicidad, se apoya a veces, en muchos ámbitos se trabaja el aprendizaje socioemocional, hay muchas estructuras de aprendizaje para estudiantes con necesidades especiales, o con, por ejemplo, el sistema de apoyo para necesidades educativas especiales, es un sistema súper flexible, donde en algún momento puedes tener apoyo, por ejemplo, en matemática, y en algún momento ya no necesitas, entonces sales del sistema de apoyo especializado, y de hecho, Juan Cisarri, quien habla mucho sobre la educación finlandesa, y ha escrito muchos libros sobre el sistema, nos dice que en Finlandia, la educación especial es tan común, que ya no es especial, que como el 90% de los estudiantes, en algún momento de su vida, necesitan apoyo como fortalecido, o especial, entre comillas, entonces ya deja de ser especial, porque todos necesitamos apoyo en distintos ámbitos, en algún momento de nuestras vidas, y es completamente normal, entonces saca también como el tabú de lo que puede significar tener como necesidades diferentes, y por eso es bien flexible el sistema, que puedes entrar y salir en una etapa de la vida donde no te encuentres, y flexibilidad en general, también el sistema, que permita el aprendizaje a lo largo de la vida, no a nivel estructural, no es que llegas como a un golpe, donde tomaste una decisión, y ya no puedes elegir de otra forma, por ejemplo, si después de educación básica, quieres estudiar en un oficio técnico, después igual puedes entrar a estudiar a la universidad, o al revés, muchos adultos que estudiaron una carrera en curiosidad, y después tienen alguna, por ejemplo, por cambios del mundo laboral, necesitan alguna habilidad específica más técnica, pueden volver a las instituciones públicas, a las escuelas técnicas, a los oficios técnicos, a sacar una carrera más rápida, y se reconoce el aprendizaje en esta gente, aprendizaje que han tenido en los años anteriores, entonces es un sistema muy flexible, que permite y también promueve el aprendizaje a lo largo de la vida. Las reformas que han llevado a esto, bueno, comenté ya antes que pasaron muy temprano, también muy chiquito ahí atrás, pero la primera ley de educación, se estableció en 1866, Finlandia de hecho en esa época no era un país independiente, era parte de Rusia en ese momento, pero era un territorio autónomo, entonces no tenía su gobierno, podía pasar leyes, por ejemplo como la ley de educación primaria, después Finlandia se intervinió, en 1901 la ley de educación obligatoria se extiende a todos los niños y niñas entre 7 y 13 años, después Finlandia en 1943 introduce como el primer país del mundo el almuerzo gratuito para todos los estudiantes durante la jornada de formación, y así se van implementando reformas, las más tal vez importantes ahí en los 60, 70, que empiezan a armar esta estructura que tenemos hoy en día de educación, la misma educación para todos los niños, la escuela común, pero las reformas por supuesto no terminaron ahí, como decía al inicio, por supuesto hay nuestras sociedades contaminando todo el tiempo, entonces es importante ir siempre mirando hacia adelante, haciendo reformas en las necesidades que tienen nuestras comunidades educativas, y ahora por ejemplo hace 3 años se amplió la edad de escolarización obligatoria a los 18, antes eran 16, pero en Finlandia, la edad obligatoria significa que todos los materiales escolares, el transporte, todo lo que significa ir a estudiar, tienen que por ley ser gratuitas, y estos dos años igual limitaban a algunas familias de bajos recursos, por ejemplo comprar los libros, los cuadernos, los lápices, eso limitaba el acceso de algunas familias, entonces se amplió con una reforma más reciente hasta 2018. Y los currículums, el último currículum se actualizó en 2016, en general se hacen en ciclos de 10 años, entonces es un trabajo continuo, que no depende de los gobiernos, es un trabajo curricular para desarrollar los cambios que necesitan las comunidades educativas, y también pensando en las necesidades de nuestra sociedad en el futuro. Para comentar brevemente el currículum actual que tenemos, en general el currículum es bastante más acotado, el currículum nacional, tenemos un currículum nacional que define como los principios generales de la educación, después a nivel local se hace un trabajo a nivel local para crear currículums locales, que hacen como un doble click click en el currículum nacional, e incorporan contenidos más específicos, pero eso se hace en conjunto con los estudiantes, con las comunidades educativas. Pero el currículum nacional del 2016 incorporó estas competencias transversales en el currículum, que creo que son muy importantes cuando hablamos de la innovación educativa, porque trabajan como en todas las asignaturas, es obligatorio trabajar las competencias de pensar y aprender, competencias culturales, de comunicación, de expresión, no solamente de lenguaje, sino que en todas las disciplinas, cuidado personal y vida cotidiana, actualización múltiple, competencias de la FICS, competencias laborales y de emprendimiento, participación, incidencia y desarrollo de un futuro sostenible, para buscar el desarrollo de una ciudadanía activa que pueda seguir aprendiendo a lo largo de su vida. Esas competencias se trabajan en todas las asignaturas y ahí es muy importante también la formación continua, sí, muchas más, la formación continua de los docentes y el profesionalismo, porque se trabajan en todas las asignaturas y de hecho, también con ese cambio curricular se volvió obligatorio implementar al menos una unidad interdisciplinaria en cada comunidad educativa todos los años. Muchas comunidades educativas ya lo hacían, tal vez lo hacen más veces, pero al menos que todos lo prueben una vez al año, y ahí tienen materiales para apoyar a las comunidades educativas en eso. Pero sí, el profesionalismo de los docentes es muy importante, formación entre padres, aquí quería comentar un ejemplo de tutores digitales, un programa del Ministerio de Educación que se implementó a partir de 2014, 15, 16, cuando la demanda estaba muy enfocada a la transformación digital en las comunidades educativas, y por eso pasó que en Finlandia cuando llegó la pandemia tuvo la suerte de que estaban, los profesores estaban muy preparados, porque habían tenido formación en el curso de programas digitales, tenían este programa donde cada establecimiento elegía uno o más tutores digitales que recibían formación, podían participar en formaciones en digitalización de la educación, y después ellos tenían algunas horas colectivas para poder apoyar a sus pares, para que, no sé, los docentes pudieran pedir apoyos, si quieren, por ejemplo, hacer una clase junto a ellos, para que estén ahí, para, no sé, usar alguna plataforma de modificación. Entonces, ese tipo de programas de aprendizaje entre pares han sido muy efectivos en Finlandia. Y algo que también quería comentar bien en breve es la actualización mediática. Se trabaja mucho en Finlandia desde hace décadas en realidad, antes trabajaba más como en los medios espilos, en identificar qué es cierto o qué no, cómo hacer falsa, cómo lo podemos identificar, pero ahora claramente se van ampliando los recursos donde necesitábamos estudiar. Se trabajan las distintas plataformas, no sé, de las redes sociales, en información falsa, en recursos audiovisuales, y ahora con la inteligencia artificial esto claramente va a ser cada vez más importante. Va a ser cada vez un desafío, cada vez mayor, pero está incorporado en todos los niveles del producto internacional. La automatización digital, de alguna forma, es de educación particular y por eso, probablemente, las universidades finlandes tienen un buen nivel de automatización digital. Y finalmente, última cosa que quería comentar respecto a la innovación, son los espacios educativos. En general, en Finlandia, la innovación es un poco más difícil, pero la flexibilidad también se amplia hasta que las estudiantes pueden elegir, también pueden moverse más durante la jornada escolar, no solamente en su puesto, sino que hay muchos espacios donde pueden, por ejemplo, tenemos las instrucciones aquí de forma común y después cada estudiante o grupos de estudiantes pueden elegir dónde van a trabajar, hay espacios donde pueden concentrarse también en otra forma, o pueden estar más cómodos en la línea, especialmente más pequeños. Es muy fácil de hacer, Es muy antinatural estar sentado en una silla, con una mesa, entonces... También los espacios educativos es algo que en general hay que mirar cuando hablamos de innovación educativa para facilitar el trabajo creativo, el trabajo colaborativo, eso es algo que también se trabaja bastante con arquitectos educativos, y ha sido importante en las comunidades educativas de Finlandia. Y solo terminar con una foto de aprendizaje integral y estos esfuerzos escolares, que fue precisamente al inicio, Finlandia fue el primer país que introdujo esta ley de que todos los estudiantes necesitan tener un almuerzo, y me acuerdo que alguna vez hablé con una educadora de párvulos en Chile, que se había ido a Finlandia, y lo que más le había llamado la atención, más allá de las metodologías como pedagógicas del día a día, eran los almuerzos. Porque... Desde la educación pulmonaria, las estudiantes toman su propia comida, ellos se sirven, tienen que pensar cuánto alambre tienen, tienen que conocer, por ejemplo, probar todas las comidas, salida salada, carne o alguna proteína vegetal, carbohidratos, ellos se sirven la comida, son vasos de vidrio, tenedores, cuchillos de metal, y platos normales, y me acuerdo que dije a mi amigo, y... ¿Pero cómo se tiene cuchillo aquí? No sé, se les pasa algo, los vidrios se les pueden romper, y esto también es parte de la autonomía educadora que se trabaja. Por supuesto que eso nunca pasó, sí. Siempre se les acaba de dar bien un vaso, el almuerzo, estar ahí limpiando, pero también es parte del aprendizaje. Y de hecho, el almuerzo también es parte del público educacional. Porque es un momento de aprendizaje, los niños y niñas, adolescentes, van a almorzar con su profesor, aprenden sobre modales, aprenden sobre la alimentación saludable, conversan, entonces también es un momento de aprendizaje. Yo creo que eso en Finlandia, a nivel educativo, es muy importante que todos los momentos, no solamente los académicos, sino que el aprendizaje para la vida, se valora mucho. Especialmente en la educación básica. Yo creo que eso ha sido muy importante también en los resultados que hemos tenido. Yo creo que también es parte de la innovación educativa, como ampliar la mirada más allá de la sala de clases, qué pasa en los momentos donde compartimos, donde aprendemos, y cómo podemos aprovechar cada momento para generar aprendizaje. Así que yo creo que con eso quiero cerrar, dar espacio aquí a la comunidad educativa que también tiene una mucha experiencia en Finlandia. Muchas gracias. Muchas gracias. Muchas gracias Edwin! Gracias. E gente viene ahora, va a presentar primero a la sind样 de coaching. Todas seeing más chain de exponen milion fr埈rera aquí con el Meza. Pero Dr. Voy a pedírle, Hola, ¿cómo están? Muy bien Un gusto, quiero dar unas características a cada una de las personas Vamos a esperar a ver si puede no sé si la presentación está bien Está bien Está bien Sí, sí Te llegué desafío, presentaba un poco de Gracias Un aplauso para Eva La experiencia de la gimnasia Bueno, yo les voy a comentar algo mucho más del ámbito local, de lo que nosotros como Colegio Alberto Lescana hemos realizado, no sé si acá algunos de ustedes nos conocen Si pueden levantar la mano las personas que nos conocen Son varios que nos conocen Les voy a presentar como cuáles son las reales innovaciones que nosotros como Colegio Alberto Lescana hemos realizado Parte importante de las innovaciones que hemos realizado y por lo que somos conocidos muchas veces por el alto de las tecnologías O sea, el Colegio Alberto Lescana es muy conocido por el aumento de la tecnología El laboratorio de comunicación digital la inclusión de tecnologías la adopción de tecnologías el desarrollo de la inteligencia artificial este último año, el año 2024 ha sido súper fuerte Pero más allá de eso, nuestra innovación principal no ha sido el uso de las tecnologías sino que el uso de las tecnologías es un medio Nuestra mayor innovación como colegio es ver la educación desde otro punto de vista Ver al estudiante desde el centrado de la educación, desde el centro de educación y en el aprendizaje y colocarlo al estudiante en el foco del aprendizaje Entonces, la comunidad educativa gira en torno al estudiante con diferentes iniciativas Desde metodologías activas de aprendizaje Desde la adopción de la tecnología Desde el desarrollo de la educación emocional Desde generar un ambiente Acá nos dicen que hasta los recreos se educan Nosotros también Hacemos educación en los recreos O sea, recreos entretenidos desde convivencia escolar Desde los aprendizajes Desde la educación de los estudiantes Desde los almuerzos también Almorzar con los estudiantes es una instancia súper importante Se da mucho más en básica No sé por qué en enseñanza de vida Cuesta un poquito que los profesores de enseñanza de vida puedan entrar ahí los adolescentes En cambio en enseñanza básica se da mucho más fácil O mucho más como natural que los profesores comparten con los estudiantes más pequeños Entonces, ya les voy a comentar diferentes instancias Así que vamos a comenzar Lo primero, mostrarles un video No sé si va a cargar, esperemos que sí cargue Un video de dos minutos para que vean la relación con el colegio Estar durante el ogranillo Para que vean el video El colegio está limpio La educación más bonita burn left lt left Gracias. Gracias. Gracias. Gracias. Gracias. Gracias. Gracias. De lo que hemos desarrollado, de nuestros logros como colegio, nosotros siempre decimos porque vamos a hacer charlas, Ricardo, yo, o alguna vez otra parte de equipo, vamos a hacer charlas y siempre nos preguntan cuáles son nuestros resultados en el CIRS. Nosotros siempre decimos que vamos ascendiendo poco a poco porque nosotros damos una vuelta más larga y enfocarnos en poder responder una prueba fatalizada. Pero sí, Nandes, logros que hemos tenido, como por ejemplo, el año pasado, del 2023 para el 2024, el 70% de nuestros estudios fueron en el CIRS. ¿Qué es lo que hemos logrado? Que nuestros estudiantes ingresó a la educación superior, sea centro de formación técnica, universidades tradicionales o continuidad de estudios en institutos profesionales. Para nosotros es un logro porque nosotros estamos muy ligados en la comuna de San Ramón, una de las comunas más vulnerables del país, una de las comunas con mayor hacinamiento y que nosotros vemos nuestro colegio como un poco de salida y de progresión social para nuestros estudiantes. Otras cosas que hemos realizado, como por ejemplo, Mantesoli, a destilo de Jañano desde pre-quinte hasta cuarto básico. Ahora vamos, en la presentación voy a ir avanzando mucho más rápido en diferentes cosas que vamos realizando dentro del colegio para poder poner en fórum el estudio. Qué aprender y cómo aprender con nuestros estudiantes. Hemos desarrollado diferentes instancias, como por ejemplo la utilización del autoestudio, no sé si se acabe de conocer algunos de los autoestudios. Nosotras implementamos un plan beta con el MIT directamente para poder probar los autoestudios acá en el colegio. en Chile y enviamos nuestro reporte hace dos años de autoestudio cuando se llamaba OctoPlay ahora actualmente se llama Autoestudio también las diferentes asignaturas van utilizando instancias tecnológicas como por ejemplo asignaturas más humanistas como Historia, los diferenciados de cualquier tipo, el tercer y cuarto medio también utilizan y adoptan estas tecnologías, hay un simulador de terremotos con arduino, además una adopción súper importante de la inteligencia artificial en dos focos, un foco adopción desde los docentes, porque si los docentes no nos unimos acá por la inteligencia artificial, nos vamos a quedar atrás, nos vamos a quedar obsoletos entonces nosotros lo que decimos, primero los docentes para que ellos puedan vivir la experiencia y luego de que los docentes vivan la experiencia los estudiantes también deben vivir esta experiencia, y más allá de un uso de eficiencia de la inteligencia artificial, es un uso creativo que me ayude para poder crear cosas y que me ayude también para poder resolver mis preguntas, no para que me dé una pregunta y respuesta porque parece Google, sino que para que me ayude a reflexionar y poder investigar mucho más además de eso tenemos diferentes talleres involucrados, como por ejemplo el taller de robótica, tenemos también talleres como en el caso de neurociencia, participamos de diferentes instancias a nivel nacional en el torneo nacional de robótica en la FISLEOLI, en los diferentes instancias de concursos Samsung Tomorrow hay muchas instancias que nosotros como creímos vamos participando porque eso también genera una motivación en los estudiantes si no le damos un sentido a lo que queremos que aprendan los estudiantes es mucho más difícil que los estudiantes se puedan motivar, entonces cuando tenemos concursos, proyectos, innovaciones los podemos modular los estudiantes se motivan mucho más además de eso tenemos otro tipo de talleres como el taller de astronomía tenemos también talleres de biohacking construcción de laboratorios, de microscopios tenemos un laboratorio de ciencias y trabajamos también con Lab4Q, no sé si alguno de ustedes acá conoce Lab4Q, con Comal.ai trabajamos con ella hace más de 8 años son grandes amigos nuestros, la verdad Comal es una muy super amiga nuestra y vamos probando también esta innovación en nuestro colegio y transformamos el laboratorio en un celular ya entonces el celular nos sirve para química, para física, para la salud, para la salud para la física y para biología y podemos desarrollar diferentes experimentaciones en los estudiantes el año pasado hicimos 63 experimentaciones en todos los niveles y multiplico eso por la cantidad de cursos son más de 100 experimentaciones a nivel anual eso es muchísimo para nosotros y queremos seguir aumentando mucho más en capacidad pero también en calidad de los aprendizajes además de eso tenemos también desde la inteligencia artificial con Machine Learning que es previo a la inteligencia artificial como al gran circuito de la inteligencia artificial nosotros también hacemos aprendizaje de la máquina el Machine Learning para que nuestros estudiantes construyan programas con Machine Learning ellos son los encargados en construir estos programas además tenemos también otras leyes como participar de 1000 genomas que participamos hace dos años en el colegio donde los estudiantes estuvieron todo un día trayendo genomas de diferentes tipos y muchas otras instancias desde el ámbito de la ciencia vinculamos mucho y comentamos mucho la participación de los estudiantes que venían a la escuela de la ciencia como ustedes bien saben es súper escasa esta participación nosotros como colegios hicimos un esfuerzo grande en que no solamente hombres sino que además mujeres se incluyan a la ciencia y al desarrollo de las tecnologías además de las humanidades tenemos de taller de neurociencia en este taller el año antepasado y lo finalizamos el año pasado hicimos un paper de electrofisiología botánica que fue inédito a nivel nacional y a nivel mundial lo presentamos este año en la conferencia mundial de neurociencia en concord junto a timothy marsivio un doctor en neurociencia que actualmente está en diferentes países ahora está en estados unidos participando en el congreso futuro y con él hicimos una construcción un paper con estudiantes de tercero medio y fue publicado en una revista científica así que fue un gran orgullo para nosotros y también para los estudiantes además de eso pertenecemos como ustedes bien saben a la ciencia y a la ciencia científica y a la ciencia científica somos el primer colegio en chile de tener un fablar hace 8 años actualmente hay más colegios que tienen un fablar y se están incluyendo en eso lo cual es super bueno pero nosotros también pertenecimos a esta red nacional de fablar y a la red latam de fablar latinoamericana de fablar de la cual también podemos compartir diferentes experiencias con diferentes laboratorios de fabricación digital que tienen diferentes focos para nosotros es super importante como se dan cuenta la integración y la colaboración con los estudiantes de fablar y con otras instituciones muy buenos hemos tenido visitas importantes desde el MIT el año pasado en esta misma fecha nos visitó Cecilia Sandler es parte de una de las personas co fundador de autoestudios nos subimos también a consultar nuestra experiencia y a conocernos como colegio también tuvimos la visita de David Cavarro en el MIT él es una persona muy cercana a Sergio Pablo no se si conocen a Sergio Pablo o a una persona de acá pero también nos han invitado a visitar para toda la vida él fue muy cercano a Sergio Pablo entonces cuando nos hemos estado ahí el pasado él fue super importante y valioso esa visita porque pudimos conversar con alguien que para nosotros es como un poco nuestros mentores dentro de la literatura de educación y también estamos muy ligados al MIT bueno esta parte siempre ya comentamos que parte de las tecnologías que nosotros utilizamos siempre son de código abierto eso significa que todos los que estamos acá podemos utilizar estas tecnologías y son de muy fácil acceso son muy baratas o casi gratis como por ejemplo el autoestudio por ejemplo esta mini PCR que con la misma que utilizaban para el diagnóstico del COVID nosotros también la tenemos en el colegio pero a un bajo costo porque está hecha con la placa que se llama SIGMINI PCR entonces también graficamos con esta imagen que parte de todas las tecnologías que están ahí abajo como es Arduino, Scrap, Big Mate, Microbit, Cracker Brace, son parte como o muy baratas o casi gratis que son también parte de las preguntas que siempre nos hacen como ¿cómo financian tantos proyectos? o ¿cómo financian que los estudiantes tengan estas innovaciones? bueno conectar la comunidad como les decía es súper importante para nosotros somos un colegio que siempre está abierto, por lo general los colegios son súper cerrados, no sé si ustedes han vivido esa experiencia como que no conectan con otros colegios ya tienen colegio a una cuadra y no saben lo que pasa en el colegio de al lado entonces nosotros hacemos todo lo contrario hacemos un evento y invitamos a todos los colegios a El Mirador, a Claudio Mate, a Francisco Ramírez hacemos un encuentro deportivo y invitamos a todos los colegios somos un colegio súper abierto abierto no solamente a la comunidad educativa sino que abierto al contexto y a la sociedad en la cual estamos inmersos dentro de lo importante para lograr todo lo que les funciona anteriormente hay una base que nosotros siempre decimos que es muy importante que es la convivencia escolar y la educación emocional si yo no tengo un piso de una clase armónica, un piso donde los estudiantes quieren estar en el colegio es mucho más difícil para nosotros los docentes poder hacer clases en el aula o sea que se entienda que es, uno el ambiente, el contexto del colegio es un contexto seguro y dos el ambiente en aula también es un ambiente propicio para el aprendizaje y parte importante de eso lo hacemos con varias acciones que les voy a mostrar a la continuación como es, si se dan cuenta yoga, meditación y también poder participar con los estudiantes en diferentes instancias nosotros tenemos yoga desde pre-kínder hasta cuarto medio una asignatura que se llama desarrollo personal y educación social y emocional nuestros estudiantes todas las semanas practican dos horas de yoga o de meditación o de diferentes actividades que involucren algún tipo de conexión con ellos mismos además de eso también tenemos diferentes talleres extra programáticos como por ejemplo talleres de danza, talleres de música talleres también de deportes los cuales también influyen en que los estudiantes tengan un sentido de pertenencia para el colegio nuestros estudiantes, gran parte de ellos aproximadamente unos 500 estudiantes entre 500 a 600 participan toda la semana de algún taller nosotros tenemos 1600 estudiantes pero de esos 500 a 600 aproximadamente unos 200 se quedan hasta las 7 de la tarde de nuestro bello entran a las 8 y se van a las 7 y no se quieren ir se quieren quedar con nosotros nosotros tenemos que decirles chiquillos nos vamos por favor y generalmente yo como directivo creo que soy casi siempre uno de los últimos a cerrar, entonces siempre como chiquillos nos vamos a las 7 y a descansar mañana nos vemos a las 8 y cuando llega el bello llego 10 para las 8 y yo estar a las 5 y media o antes o se van de los últimos y eso también es porque habla de que quieren estar por nosotros o sea más allá de que quieran aprender lenguaje o matemática ya que son como las asignaturas que ponemos mucho o poco en los colegios es que ellos quieren estar porque les gusta y si ya queremos si ya ellos quieren estar porque les gusta ya ganamos el 90% porque el otro día simplemente es juzgar, igual hablen del lenguaje igual tienen que aprender matemática pero ellos si quieren entrar porque les gusta porque siempre es un contexto seguro además de eso también hacemos un desarrollo docente para nosotros es súper importante como les dije uno de los focos principales que pusimos el año pasado fue la inteligencia artificial y con los docentes desarrollamos muchas actividades de inteligencia artificial desde aprender con chatipiqui con Gemini con diferentes aplicaciones como Spool o sea infinidad de herramientas que se pueden utilizar pero también exploramos como poder desarrollar este aprendizaje con los estudiantes hicimos un plan piloto que vamos a estudiar este año que fue en matemática hicimos dos intervenciones el tercer básico y el segundo medio donde nuestras docentes se transformaron en unas junto a Gemini transformaron el aula en un aprendizaje individualizado entonces todos los estudiantes tuvieron una tablet con Gemini y le entregamos un desarrollo de una guía sin ningún conocimiento previo y los estudiantes pudieron desarrollar casi el 70% pudo desarrollar la guía sin ayuda del docente sino como una guía solamente del docente sin que el docente esté explicando la guía sino que el estudiante junto nuevamente lo aprendiendo sabemos que es la primera exploración estamos investigando, estamos leyendo de como esto puede impactar o positivamente o negativamente a los estudiantes pero estamos explorando porque sabemos que esto se viene fuerte y que si no nos unimos a la ola como decimos nosotros, si no solucionamos la ola la ola nos va a sobrepasar y vamos a tener que pasar solamente por debajo de la ola en cambio nosotros como colegios emprendemos queremos estar solucionando la ola y como siempre en punta de lanza para poder incluir estas innovaciones en el aula hacemos hasta adopciones de las asignaturas de tecnología con todos los docentes desde quintero hasta cuarto medio además también dentro de la formación tenemos todo lo que tiene que ver con el desarrollo emocional de los docentes o sea, no solamente no basamos en que los estudiantes estén bien, sino que necesitamos que también los docentes estén bien y más que los docentes, la comunidad educativa para nosotros todos son educadores desde la persona que saluda, desde el portero desde la auxiliar, desde la asistente de aula desde los docentes, todos son educadores dentro del colegio y vamos a ir ya finalizando entonces parte de esto es que nosotros siempre decimos replicar estos cinco pasos que es uno, clases activas o metodologías de mensaje el estudiante como centro adopción de tecnologías, educación emocional un ambiente armónico y el desarrollo docente es que siempre decimos que para eso tenemos que crear estos ocho puntos dentro de un colegio innovador porque más allá de las adopciones de tecnología, que es un punto súper importante que por lo cual nos conocen nosotros ahora queremos decir que no es solamente la adopción de tecnologías adoptar la tecnología es como entrenar las piernas de un futbolista si yo le entreno las piernas a un futbolista el futbolista no va a ser mejor un futbolista necesita un nutricionista, un psicólogo un preparador físico necesita práctica necesita técnica nosotros lo mismo hacemos con los estudiantes entonces por ende para ser un colegio innovador siempre decimos que tenemos todos estos puntos y este es el foco de nuestra innovación espero haber sido lo más claro posible, no hayan extendido tanto y cualquier consulta o duda estamos parados muchísimas gracias investigando sobre este tema revisé y Finlandia invierte sus proporciones del PIB casi similar al de Chile por lo que investigué era como el 5% de Chile también entonces y la primera pregunta y bueno y el Gles Gana también hace estas maravillas con los mismos recursos o al menos como similares a otras liceas o escuelas públicas entonces mi primera pregunta para los dos sería ¿cómo partirían ustedes este camino conociendo las realidades de Chile? ¿cómo se puede replicar la experiencia del Gles Gana? tú nos comentaste todos los pilares que tiene pero ¿cuál es el que se puede partir mañana? acá hay algunos profesores ¿hay profesores o profesoras que levanten la mano? hay un par ¿qué consejos le darían a ellos y ellas para que puedan partir desde su lugar desde su espacio en su comunidad educativa? excelente pregunta y yo creo que eso es lo que en general cuando hablo de la educación finlandesa muchas veces la primera reacción es como es muy bonito es muy bonito y todo pero Chile es Chile, Finlandia es Finlandia son contextos súper distintos y por supuesto que sí pero no es sólo un tema de recursos muchas de las cosas que han hecho que como Finlandia sea exitosa son los mismos pilares que también estábamos escuchando acá es tener al enseñante o a la enseñante en el centro conocer a nuestros estudiantes cuidar su bienestar estar apoyando desde sus necesidades no desde las necesidades de los adultos sino que de los estudiantes y yo creo que eso es como el primer cambio que donde yo partiría por supuesto que también los docentes, bueno en realidad en Finlandia yo creo que los docentes son como el secreto entre comillas del éxito porque los docentes son, tienen una buena preparación quieren estar ahí para los estudiantes pero yo sé que en Chile también hay un montón de docentes yo estoy segura que aquí también todos los que están aquí en enero están participando tienen esas justas ganas de hacer que esos estudiantes aprendan y yo creo que eso es como el gran cambio que después permite todo lo que viene después como tener a los estudiantes en el centro y sea a través de las tecnologías como en realidad medir tecnologías son como el medio obviamente es una habilidad importante porque estamos en una sociedad muy tecnológica pero todo parte con tener ahí a los estudiantes y sus intereses en el centro Me sumo un poco a Eva lo primero es que nosotros siempre decimos mucho más fácil hacerlo cuando los directivos quieren hacer el cambio que de los docentes hacia los directivos pero si no tengo el apoyo de los directivos porque estoy en un SLE porque estoy en un colegio de particularidad subjuncional que no tiene esta línea yo soy líder de mi aula yo al ser líder de mi aula lo primero es recibirnos con una sonrisa recibamos a nuestros estudiantes con una sonrisa con un hola buenos días un hola como estas no solamente somos transmisores de conocimiento sino que somos formadores de vidas y parte importante de lo que nosotros predicamos es que si tu ves que el curso tiene alguna situación emocional y tienes que perder una clase con ese curso hablando de esa situación emocional pierdes esa clase no va a pasar nada el mundo no va a cambiar no va a venir el ministerio de educación a decirte por qué no hiciste la clase número 24 donde tenías que desarrollar el OA número 5 no, eso no va a pasar para nosotros mucho más importante el vínculo con los estudiantes y desde ahí parte el cambio si hacen vínculo con el estudiante tienes 50% ganado de tu clase y los estudiantes disruptivos ya no vas a tener estudiantes disruptivos puedes tener estudiantes desbordados emocionalmente y tienes que aplicar ciertas metodologías con esos estudiantes pero si hacen vínculo si los recibes con una sonrisa si les preguntas cómo están de manera genuina en verdad cambia tu relación con los estudiantes y actualmente la figura de autoridad del docente ya no sirve ya no son los 30 años atrás de la educación son los 20 y 25 después de la pandemia con estudiantes con necesidades educativas especiales y con necesidades emocionales y nosotros somos los adultos responsables de ellos entonces para partir si es que no tengo ningún apoyo recibir con una sonrisa y hacer vínculo con el estudiante te va a ayudar muchísimo Muchas gracias hay un tema que me llamó la atención y que aparece en los dos sistemas que es un poco el uso del espacio y el uso de recursos y el uso de herramientas tradicionales que no están en la escuela acabo de compartir una experiencia ingeniosa habitualmente nosotros vamos y desarrollamos unas actividades relacionadas con las STEM en colegios y nos pasa mucho que en muchos colegios no encontramos un espacio adecuado no existe esa sala multiuso esa sala abierta que permite moverse pararse respecto a la experiencia que contabas tú entonces y no es tan difícil encontrar algunas espacios dentro del colegio donde permitir esa experiencia en el 90% de los casos terminamos en un laboratorio pero los laboratorios que son con sillas fijas con mesas fijas que lo permiten abajo un grupo o en la biblioteca que si bien estábamos hablando o salió en particular incluso acá vamos a poner libre la biblioteca tampoco es el espacio más adecuado como para la experimentación entonces, ¿qué otros elementos o recursos podemos usar si es que tampoco tenemos tanto recursos económicos? además del profesorado del equipo del colegio ¿qué otros recursos podemos usar que nos permitan en el fondo ir flexibilizando y aportando en la innovación? ¿los dos? esta es muy buena yo creo que quiero comenzar con dos cosas primero mirar como a todos los espacios educativos que tengan en la comunidad educativa con una mente abierta a veces, a veces no se puede en Finlandia puede ser incluso la escalera, que se usa como puede ser como un teatro que los estudiantes suban, se sientan en la escalera, miran hacia abajo y ven mucho mejor y hacen un espacio educativo distinto, no necesariamente tiene que ser específicamente pensado como para lo que quiero hacer, sino que mirar realmente los espacios abiertos, puede ser el comedor, los patios dar una vuelta por la comunidad educativa mirando los espacios que tienen porque tal vez no tiene que ser un espacio nuevo y por otro lado lo que vimos en la experiencia del colegio es también abrir la escuela hacia afuera no tienen que hacer el trabajo solos yo creo que eso es súper importante porque nadie puede solo y hay tantas organizaciones que pueden apoyar por ejemplo las bibliotecas en Finlandia la red de bibliotecas es un apoyo muy importante para los colegios distintas organizaciones que pueden apoyar, hacer talleres que se pueden prestar espacios también entonces a veces nos limitamos con lo que no tenemos, que por supuesto sería genial poder contar con todo lo que necesitamos, pero a veces alguna otra organización puede tener lo que necesitan en ese momento entonces también tener una mente abierta, conversar, buscar redes, alianzas que puedan facilitar la innovación Si parte de lo que nosotros decimos si un colegio no cuenta con micromundos como por ejemplo un laboratorio de fabricación digital o una biblioteca es utilizar los espacios que hice o sea, nuestros docentes por ejemplo utilizan mucho recursos digitales como los celulares los celulares que actualmente queremos quieren prohibir nosotros como colegio predicamos que más que prohibir tenemos que educar en el uso del celular y más que ser consumidores de tecnología ser prosumidores, o sea, producir o crear con tecnología y los docentes por ejemplo hacen utilizan TikTok que los docentes lo saben utilizar y realizan campañas publicitarias o videos educativos y los docentes se pasean por todo el país entonces el docente viene y envía un Whatsapp dice estudiantes del segundo medio D van a estar por el patio grabando videos de TikTok el profesor está en la sala y los estudiantes están en el patio por una hora grabando TikTok entonces sabemos que quizás van a haber un par de estudiantes que puede que no estén haciendo nada pero en general casi todos los estudiantes realizan el trabajo entonces ver el colegio como un espacio abierto también es importante para salir de esta estructura de la clase la sala de clases como tal y también mover la sala de clases mirando hacia delante los mismos estudiantes nos pueden ayudar a mover mi sala de clases desde otro punto de vista Muchas gracias muy interesante tenemos que ir a preguntas pero quiero saber si abrir espacio para las preguntas no hace lo malo ya vamos a partir cada uno hacia delante si alguien tiene ayuda lo vamos a hablar por acá quería preguntarle a Edad sobre la experiencia de la estudianta que usted ha dado en la profesión inicial sabemos que la profesión inicial es clave para el desarrollo de todo el desarrollo más íntimo y más importante para un estudiante obligatorio de la universidad y esta toda esta materia cómo se puede hacer para que la universidad pueda dar un resultado como se está utilizando es muy importante las etapas educativas más importantes sin duda y los primeros años de básica no es obligatoria es obligatorio como es el equivalente de la internet pero si se intenta facilitar el acceso y promover la participación de distintas formas no todas las familias participan en una educación parvularia la mayoría sí y en los primeros años es menos común así como los primeros 2 años por ejemplo, 2, 3 años de participación moral en todos los países es menor pero también a nivel estructural se han desarrollado diferentes servicios más flexibles que facilitan la participación de las familias que no necesariamente requieren de una educación parvularia todos los días de 8 a 5 todos los días no quieren dejar a su hijo todos los días quieren compartir quieren estar en la casa entonces hay otro tipo de servicios más flexibles que se pueden utilizar a la semana que se llaman educación parvularia abierta pueden ser en otro tipo de espacios apoyo para las familias para que ellos hagan actividades con sus hijos entonces se ha abordado desde ese lado intentar hacerlo como lo más cercano y accesible posible porque a veces también es un tema de confianza de las familias porque son niñas y niñas muy pequeñas y tal vez no quieren dejarlo con una persona desconocida entonces por ese lado han desarrollado otro tipo de servicios que pueden acercar a las familias a la educación parvularia y sin duda es uno de los niveles más importantes y yo creo que se dio la importancia mucho en la pandemia porque tal vez al revés lo que pasó en Chile en Finlandia desde el inicio se priorizó la educación parvularia los primeros años de educación básica y se decidió que Finlandia tenía menos de un mes cerrados los servicios de ese nivel y después era todo el resto podemos tener en pausa pero estos niveles de los amigos tienen que estar presencialmente en los jardines, en las escuelas y la secundaria por ejemplo estaba tenía casi un año pero se prioriza porque sabemos que es una etapa de desarrollo demasiado importante y no se podía perder entonces en general hay como hay mucha conciencia de que es importante y por eso también hay niveles de servicios que facilitan la participación de las familias Gracias por la pregunta Yo quería felicitar a todos y preguntarle a Fabián que con esto hemos trabajado con muchas redes con el fin de hacer los seguidores entonces ahí tengo dos preguntas uno, ¿cómo podéis trabajar con tantas redes? por lo general pasa que el colegio dice lo puedo y yo quedé impactada entonces hay una figura de que hay que estar a cargo de eso y segundo también produciste con éxito 70% de los divulgados en los dos seguidores ¿Han podido medir por ejemplo cómo ha sido eso? por ejemplo, con todas las iniciativas que tienes tú ¿Han podido medir por qué llegaron a 70% y cuánto era antes? Eso Y con respecto a la primera pregunta sí hay personas pero somos los mismos del equipo de gestión yo soy, por ejemplo el año pasado estuve de coordinador académico de enseñanza media y además coordinador de innovación este año va a estar más ligado a coordinación de innovación y proyectos dentro del colegio pero tanto la coordinadora de básica la subdirectora de convivencia escolar todos tenemos como diferentes amigos, nosotros decimos como amistades con las cuales conversamos periódicamente tanto por ejemplo Black4U, Swarbu UCOR la red latinoamericana de FAAP o sea es una instancia que va más allá de lo laboral, de lo estructural laboral o sea no es que yo converso con ellos de 8 a 6, sino que por ejemplo yo puedo estar conversando ahora por ejemplo con David Leal que es de innovación para nosotros es un amigo nuestro muy conocido nuestro entonces y yo hago paralel mis vacaciones para poder venir para acá porque para mí no me complica eso yo no lo veo como un estructural o de vacaciones no puedo hacer esto o sea no, yo en la mañana les decía a David me vine a las 7 de la mañana de Algarrobo y ahora termino acá y me devuelvo a Algarrobo entonces así es con mis vacaciones entonces eso es parte importante de mirar la educación desde otro punto de vista no es un trabajo formal sino que formamos vida, lo cual no quiere decir y esto es muy importante siempre como que ponemos el foco en que no tengamos vida si tenemos vida, o sea tengo vida familiar tengo el corola, pero si ponemos foco en que cada parte del equipo de gestión e incluso los docentes pueden tener colaboraciones con otras personas y incluirlas o traerlas al colegio y lo segundo con respecto a la orientación vocacional ustedes vieron acá lo bonito del Mezcana nosotros siempre decimos desde lo que podemos mejorar podemos estar hablando toda la tarde de lo que tenemos que mejorar como colegio en nuestro Mezcana, tenemos los mismos desafíos las mismas dificultades que quizás gran parte de ustedes pero llegar al 70% es gracias a que insistimos o sea aún en cuarto B tenemos estudiantes que no se quieren matricular a la PAIS y nosotros literalmente los obligamos ¿por qué? porque las familias dicen no los puedo financiar, porque ni siquiera las familias saben que pueden estudiar en las escuelas de grans y que hay muchas pecas entonces nosotros lo orientamos en primero matricularse a la PAIS dos, hacemos el FUGAS con ellos los obligamos a hacer el FUGAS en octubre tres, los llamamos antes de que vayan a dar la PAIS cuatro, la semana pasada estuvimos lunes, martes y miércoles con el colegio abierto, estuvo la orientadora estuvo un docente, estuve yo haciendo las postulaciones de los estudiantes los postulamos a la universidad y ahora el 20 vamos a llamar a todos los estudiantes de nuevo para saber si pueden acumular alguna universidad y después en marzo hacemos el seguimiento ¿qué nos falta? si de ese 70% ¿cuántos estudiantes permanecen en la educación superior? y logran alcanzar su objetivo de ser profesionales pero todo eso es como nosotros decimos, no es gratis es a par, o sea es literalmente casi buscando a los estudiantes en su casa ya porque no todos los estudiantes están modulados el 30% si, es autónomo el otro 70% no el 30% es un alto porcentaje las familias piensan que es mejor que vaya a trabajar porque tiene que traer dinero a la barra y nosotros tenemos que cambiar esa mentalidad y también que hacemos esta orientación desde séptimo básico hasta cuarto medio desde séptimo empezamos a hablar que acá en este colegio abrimos oportunidades y por último para no regresar en el dato tenemos muchos propedáuticos con universidades la UTEM, la USACH, la CATÓLICA, el GOOG la UECS y el INACAPO entonces varios de nuestros estudiantes entran a esa universidad sin dar, solamente poniendo el nombre en la base y ya tienen asegurado el GOOG que también son instancias súper importantes para nosotros Cortito, Fabián y para hacer todo eso, ¿cuánto? espero que nadie me eduque como se saltan ciertos protocolos porque claro, uno empieza siempre a abrir el colegio en una instancia donde no está abierta habitualmente uno de los pilares de la educación finlandesa es como esta libertad y autonomía de los profesores ¿es necesario agradecer o finalmente es más bien de decisiones? ¿es necesario romper o saltarse algunos pasos burocráticos o o no? por ejemplo, para abrir el colegio el lunes, o sea, nosotros tenemos abierto el colegio todo enero y febrero actualmente no hay nadie del equipo formal trabajando solamente hay una secretaria que se comunica con nosotros, el equipo de gestión nosotros no molestamos a los docentes, ya los docentes tienen sus vacaciones, los asistentes también si algún docente, por ejemplo, como el lunes martes en el colegio quiso trabajar con nosotros hay obviamente un pago extra para el docente siempre se pregunta si está disponible porque a muchos es igual, les gusta como trabajar en vacaciones pero para poder abrir y hacer estas instancias no nos saltamos gran parte de lo que el Minedum nos dice las leyes son las leyes y hay que cumplirlas estamos supervisados por la superintendencia por la agencia de calidad por el mismo ministerio entonces no nos saltamos nada, sino que es un tema de mucha voluntad y donde se ve graficado esto así como lo vi en la gestión en el plan de mejoramiento educativo PME y en el proyecto educativo institucional, o sea el PME nos ayuda a cumplir el PN o sea, en esa instancia de gestión, nosotros tenemos todas estas acciones que ustedes vieron acá si ustedes vieron nuestro PN están todas las acciones, entonces desde ahí conseguimos los financiamientos y tratamos de ocupar el financiamiento en pro de los estudiantes, o sea nosotros devolvemos super poco de la ley CERN entonces ahí es donde nosotros de su cons tenemos que jugarnos con lo que nosotros creemos como colegio que es la formación de los estudiantes y lo otro, el ministerio no va a venir a supervisarse el colegio está abierto o cerrado en enero y febrero o sea, no de hecho nosotros siempre decimos, es un poco ridículo porque el ministerio dice que ya todos tenemos que tener vacaciones en enero y febrero o sea desde más o menos desde el 31 de diciembre hasta dos días antes del proceso de los estudiantes, pero el ministerio nos sigue mandando correos a los directivos para el PN para cuanta matrícula tuvimos para asistencia de diciembre o sea una infinidad de trabajo administrativo y que necesitamos, es super complejo o sea porque por una parte nos dicen ya váyanse todos a vacaciones, pero por otra parte tienes que seguir cumpliendo como comienzo los directivos tenemos que seguir cumpliendo entonces no nos saltamos nada sino que apelamos uno a la convicción que tenemos y lo otro a que las acciones vayan en pro de los estudiantes la mirada siempre está en el estudio y eso hace un cambio Gracias, dos preguntas más porque estamos en la hora les pediría si se pueden quedar para para las 11, si quieren preguntar más Ya, yo quería hacer un poco de ronda le quería hacer una pregunta a la hora de usted no sé si se han encontrado algunas preguntas bueno yo te quería preguntar con respecto a como es que nace este proyecto innovativo y con respecto a cómo es la educación como usted lo ha preparado probablemente en algún momento hace cambio en su ciber y cómo empieza todo esto y vamos a ir a preguntarte un poco bueno de unidad, de cómo es todo el contexto final de cómo se articula la el panorama del pero me interesaría saber como desde tu perspectiva con lo que conoces de allá que fue lo que más te llamo la atención de la educación acá y que es un poco la mayor que le puedes hacer a los niños que creen que hay un mayor tesoro que evita que se pueda avanzar Ya, para responder la pregunta parte uno desde el líder que es Ricardo, o sea Ricardo hace ya aproximadamente 11 años tiene una mirada más visionaria o sea lo primero que hace es ver que los colegios estaban instaurando robótica en una colegio y trae robótica y prueba robótica, ve también que está instaurando yoga, trae yoga y prueba yoga o sea como que primero se fue armando nosotros decimos como el árbol de pascua se fue armando con robótica neurociencia, yod y después la investigación nos fuimos dando cuenta que existían los fab lab que existía una comunidad que ese mundo estaba ligado con Montessori con María Montessori por ejemplo que las tecnologías no están alejadas salvo humanistas, y ahí fuimos armando todo este contexto dentro del colegio para poder crear esta innovación pero parte del liderazgo de Ricardo el director y que ha traído diferentes instancias al colegio que primero parten como taller y después se van instaurando en el aula actualmente yo, a robótica, neurociencia, oyo hagi taller de astronomía, todos los talleres que vienen acá se instauran en el aula, no solamente son extra programados, se ven en algunas asignaturas difícil pregunta yo creo que también la diferencia como la dificultad a nivel de aula que me llamó la atención y por supuesto que aquí depende mucho de la comunidad educativa yo quiero no pasar en todas las comunidades pero yo creo que el gran desafío es como que muchas veces la educación se mira mucho desde la mirada de adultos y como lo que hacen los profesores y que yo paso la materia y que incluso a nivel de lenguaje que dictan las clases, que paso materia y como que el rol de estudiantes está mucho más lejos y no se mira tanto desde la perspectiva del niño, niña, joven y yo creo que eso es como un gran desafío y una gran diferencia con Finlandia que como el rol del adulto es siempre buscar una forma que sirva al niño que el niño está en el centro o el estudiante está en el centro y que a veces y que se entienda también, hay muchas presiones como el futuro también es mucho más exceso, pero yo creo que eso es como el gran desafío como un cambio de paradigma de empezar a mirar como desde la perspectiva de lo que necesita el niño o niña enseñar cuál es su interés y no lo que yo tengo que pasar eso por ejemplo, yo siento que es súper interesante lo que comentaste de la presión de que, no sé, si tengo un tema un desafío, un conflicto por ejemplo en mi aula, pero yo tengo que pasar la materia pero ¿qué paso con el aprendizaje? si yo paso por la materia me quedo tranquila porque lo pasé o realmente si hubo conflictos si no aprendieron como que lo pasé, pero no tiene mucha importancia, entonces tomar el tiempo de mirar, de sentir como lo que está pasando con los estudiantes y que eso es como el el gran desafío que puede generar un cambio muy importante sin necesariamente tener como recursos adicionales eso tal vez es como uno de los grandes desafíos que veo a nivel de aula y también en términos de innovación de aula Muchas gracias a ambos vamos a cerrar como los más laboral y pido queremos sacar una foto final contra todos los speakers a quienes les agradecemos infinito habernos traído esta experiencia me imagino que acá todos tenemos más preguntas así que dejamos de ahí que se queden un ratito gracias a ustedes por venir a la comunidad de organizaciones solidarias a las energías que trabajan en la mesa por favor no se vayan porque vamos a hacer una foto con todos desde acá adelante, con Emilia, la mesa nuestros speakers y con ustedes también así que ¿qué es? mirando a Pireña mirando a Pireña ¿qué pensaban? ¿qué pensaban? ¿que pensaban? ¿qué pensaban? ¿no? ¿que pensaban el público? ¿que pensaban el público? ¿que pensaban el público? 3, 2, 1. 1, 2, 3. Súper. Eso fue nada. Gracias.\n"
          ]
        }
      ],
      "source": [
        "import whisper\n",
        "\n",
        "# Cargar el modelo de Whisper (puedes usar 'base', 'small', 'medium', 'large' según tu necesidad)\n",
        "model = whisper.load_model(\"large\")\n",
        "\n",
        "# Transcribir el audio\n",
        "result = model.transcribe(audio_file)\n",
        "\n",
        "# Imprimir la transcripción\n",
        "transcription = result[\"text\"]\n",
        "print(\"Transcripción:\\n\", transcription)\n"
      ]
    },
    {
      "cell_type": "code",
      "execution_count": 4,
      "metadata": {
        "id": "doTYPnHvvPBO",
        "colab": {
          "base_uri": "https://localhost:8080/"
        },
        "outputId": "da305f95-3c1c-4eb2-c613-1e53ad4d96ff"
      },
      "outputs": [
        {
          "output_type": "stream",
          "name": "stdout",
          "text": [
            "Transcripción guardada en: transcription.txt\n"
          ]
        }
      ],
      "source": [
        "# Guardar la transcripción en un archivo .txt\n",
        "output_file = \"transcription.txt\"\n",
        "with open(output_file, \"w\") as f:\n",
        "    f.write(transcription)\n",
        "\n",
        "print(f\"Transcripción guardada en: {output_file}\")\n"
      ]
    },
    {
      "cell_type": "markdown",
      "metadata": {
        "id": "6aLf8EEkvefr"
      },
      "source": [
        "## Análisis de discurso"
      ]
    },
    {
      "cell_type": "code",
      "execution_count": 5,
      "metadata": {
        "id": "QKP1B53ivhAU",
        "colab": {
          "base_uri": "https://localhost:8080/"
        },
        "outputId": "0833bdb2-8a09-4c7c-dd98-ae63902f4cb6"
      },
      "outputs": [
        {
          "output_type": "stream",
          "name": "stdout",
          "text": [
            "Collecting anthropic\n",
            "  Downloading anthropic-0.43.0-py3-none-any.whl.metadata (23 kB)\n",
            "Requirement already satisfied: anyio<5,>=3.5.0 in /usr/local/lib/python3.11/dist-packages (from anthropic) (3.7.1)\n",
            "Requirement already satisfied: distro<2,>=1.7.0 in /usr/local/lib/python3.11/dist-packages (from anthropic) (1.9.0)\n",
            "Requirement already satisfied: httpx<1,>=0.23.0 in /usr/local/lib/python3.11/dist-packages (from anthropic) (0.28.1)\n",
            "Requirement already satisfied: jiter<1,>=0.4.0 in /usr/local/lib/python3.11/dist-packages (from anthropic) (0.8.2)\n",
            "Requirement already satisfied: pydantic<3,>=1.9.0 in /usr/local/lib/python3.11/dist-packages (from anthropic) (2.10.5)\n",
            "Requirement already satisfied: sniffio in /usr/local/lib/python3.11/dist-packages (from anthropic) (1.3.1)\n",
            "Requirement already satisfied: typing-extensions<5,>=4.10 in /usr/local/lib/python3.11/dist-packages (from anthropic) (4.12.2)\n",
            "Requirement already satisfied: idna>=2.8 in /usr/local/lib/python3.11/dist-packages (from anyio<5,>=3.5.0->anthropic) (3.10)\n",
            "Requirement already satisfied: certifi in /usr/local/lib/python3.11/dist-packages (from httpx<1,>=0.23.0->anthropic) (2024.12.14)\n",
            "Requirement already satisfied: httpcore==1.* in /usr/local/lib/python3.11/dist-packages (from httpx<1,>=0.23.0->anthropic) (1.0.7)\n",
            "Requirement already satisfied: h11<0.15,>=0.13 in /usr/local/lib/python3.11/dist-packages (from httpcore==1.*->httpx<1,>=0.23.0->anthropic) (0.14.0)\n",
            "Requirement already satisfied: annotated-types>=0.6.0 in /usr/local/lib/python3.11/dist-packages (from pydantic<3,>=1.9.0->anthropic) (0.7.0)\n",
            "Requirement already satisfied: pydantic-core==2.27.2 in /usr/local/lib/python3.11/dist-packages (from pydantic<3,>=1.9.0->anthropic) (2.27.2)\n",
            "Downloading anthropic-0.43.0-py3-none-any.whl (207 kB)\n",
            "\u001b[?25l   \u001b[90m━━━━━━━━━━━━━━━━━━━━━━━━━━━━━━━━━━━━━━━━\u001b[0m \u001b[32m0.0/207.9 kB\u001b[0m \u001b[31m?\u001b[0m eta \u001b[36m-:--:--\u001b[0m\r\u001b[2K   \u001b[90m━━━━━━━━━━━━━━━━━━━━━━━━━━━━━━━━━━━━━━━━\u001b[0m \u001b[32m207.9/207.9 kB\u001b[0m \u001b[31m6.4 MB/s\u001b[0m eta \u001b[36m0:00:00\u001b[0m\n",
            "\u001b[?25hInstalling collected packages: anthropic\n",
            "Successfully installed anthropic-0.43.0\n"
          ]
        }
      ],
      "source": [
        "# Instalar las bibliotecas necesarias\n",
        "!pip install anthropic\n"
      ]
    },
    {
      "cell_type": "code",
      "source": [
        "# Importar las bibliotecas necesarias\n",
        "import os\n",
        "from anthropic import Client\n",
        "from IPython.display import display, HTML\n",
        "from google.colab import output\n",
        "\n",
        "# Interfaz para ingresar la API key\n",
        "def request_anthropic_api_key():\n",
        "    input_html = \"\"\"\n",
        "    <div style=\"font-family: Arial; margin: 10px; padding: 10px; border: 1px solid #ddd; border-radius: 5px; width: 50%;\">\n",
        "        <h3 style=\"color: #007BFF;\">Proveer API Key</h3>\n",
        "        <p>Por favor, ingrese su API key de Anthropics en el siguiente campo:</p>\n",
        "        <input type=\"password\" id=\"anthropicApiKeyInput\" placeholder=\"Ingrese su API key aquí\"\n",
        "               style=\"width: 100%; padding: 8px; margin-bottom: 10px; border: 1px solid #ddd; border-radius: 3px;\">\n",
        "        <button onclick=\"storeApiKey()\"\n",
        "                style=\"padding: 10px 15px; background-color: #007BFF; color: white; border: none; border-radius: 3px; cursor: pointer;\">\n",
        "            Guardar API Key\n",
        "        </button>\n",
        "    </div>\n",
        "    <script>\n",
        "        function storeApiKey() {\n",
        "            const apiKey = document.getElementById('anthropicApiKeyInput').value;\n",
        "            if (apiKey) {\n",
        "                google.colab.kernel.invokeFunction('notebook.store_anthropic_api_key', [apiKey], {});\n",
        "                alert('API key almacenada correctamente.');\n",
        "            } else {\n",
        "                alert('Por favor, ingrese una API key válida.');\n",
        "            }\n",
        "        }\n",
        "    </script>\n",
        "    \"\"\"\n",
        "    display(HTML(input_html))\n",
        "\n",
        "# Callback para almacenar la API key en la variable de entorno\n",
        "def store_anthropic_api_key(api_key):\n",
        "    os.environ[\"ANTHROPIC_API_KEY\"] = api_key\n",
        "    print(\"API key almacenada correctamente en la variable de entorno.\")\n",
        "\n",
        "# Registrar la función en Google Colab\n",
        "output.register_callback('notebook.store_anthropic_api_key', store_anthropic_api_key)\n",
        "\n",
        "# Solicitar la API key al usuario\n",
        "request_anthropic_api_key()\n",
        "\n",
        "# Crear un cliente para la API\n",
        "client = Client(api_key=store_anthropic_api_key)"
      ],
      "metadata": {
        "colab": {
          "base_uri": "https://localhost:8080/",
          "height": 222
        },
        "id": "dp915KyMtuTc",
        "outputId": "f6729915-bb4a-43f6-9423-10a56b1f1d0e"
      },
      "execution_count": 8,
      "outputs": [
        {
          "output_type": "display_data",
          "data": {
            "text/plain": [
              "<IPython.core.display.HTML object>"
            ],
            "text/html": [
              "\n",
              "    <div style=\"font-family: Arial; margin: 10px; padding: 10px; border: 1px solid #ddd; border-radius: 5px; width: 50%;\">\n",
              "        <h3 style=\"color: #007BFF;\">Proveer API Key</h3>\n",
              "        <p>Por favor, ingrese su API key de Anthropics en el siguiente campo:</p>\n",
              "        <input type=\"password\" id=\"anthropicApiKeyInput\" placeholder=\"Ingrese su API key aquí\"\n",
              "               style=\"width: 100%; padding: 8px; margin-bottom: 10px; border: 1px solid #ddd; border-radius: 3px;\">\n",
              "        <button onclick=\"storeApiKey()\"\n",
              "                style=\"padding: 10px 15px; background-color: #007BFF; color: white; border: none; border-radius: 3px; cursor: pointer;\">\n",
              "            Guardar API Key\n",
              "        </button>\n",
              "    </div>\n",
              "    <script>\n",
              "        function storeApiKey() {\n",
              "            const apiKey = document.getElementById('anthropicApiKeyInput').value;\n",
              "            if (apiKey) {\n",
              "                google.colab.kernel.invokeFunction('notebook.store_anthropic_api_key', [apiKey], {});\n",
              "                alert('API key almacenada correctamente.');\n",
              "            } else {\n",
              "                alert('Por favor, ingrese una API key válida.');\n",
              "            }\n",
              "        }\n",
              "    </script>\n",
              "    "
            ]
          },
          "metadata": {}
        },
        {
          "output_type": "stream",
          "name": "stdout",
          "text": [
            "API key almacenada correctamente en la variable de entorno.\n"
          ]
        }
      ]
    },
    {
      "cell_type": "code",
      "source": [
        "from anthropic import Anthropic\n",
        "import os\n",
        "\n",
        "def analyze_discourse(text):\n",
        "    \"\"\"\n",
        "    Realiza un análisis de discurso usando la API de Anthropic.\n",
        "    \"\"\"\n",
        "    # Definir un prompt ajustado al contexto del análisis\n",
        "    prompt = f\"\"\"\n",
        "    \\n\\nHuman: You are tasked with analyzing the discourse of an audio transcript from a seminar on innovating and transforming the classroom. Your goal is to provide insights into the content, structure, and key themes of the seminar.\n",
        "\n",
        "    Here is the transcript of the audio:\n",
        "\n",
        "    <transcript>\n",
        "    {text}\n",
        "    </transcript>\n",
        "\n",
        "    Analyze the discourse of this seminar, focusing on the following areas:\n",
        "\n",
        "    1. Main themes and topics discussed\n",
        "    2. Innovative ideas or strategies presented\n",
        "    3. Structure and flow of the seminar\n",
        "    4. Speaker's communication style and effectiveness\n",
        "    5. Audience engagement (if applicable)\n",
        "    6. Use of examples or case studies\n",
        "    7. Potential impact on classroom transformation\n",
        "\n",
        "    Provide your analysis in a structured format with the following sections:\n",
        "\n",
        "    <analysis>\n",
        "    <themes>\n",
        "    Discuss the main themes and topics of the seminar\n",
        "    </themes>\n",
        "\n",
        "    <innovation>\n",
        "    Highlight the innovative ideas or strategies presented for classroom transformation\n",
        "    </innovation>\n",
        "\n",
        "    <structure>\n",
        "    Analyze the structure and flow of the seminar\n",
        "    </structure>\n",
        "\n",
        "    <communication>\n",
        "    Evaluate the speaker's communication style and effectiveness\n",
        "    </communication>\n",
        "\n",
        "    <engagement>\n",
        "    Discuss any evidence of audience engagement or interaction\n",
        "    </engagement>\n",
        "\n",
        "    <examples>\n",
        "    Highlight any significant examples or case studies used\n",
        "    </examples>\n",
        "\n",
        "    <impact>\n",
        "    Assess the potential impact of the ideas presented on classroom transformation\n",
        "    </impact>\n",
        "    </analysis>\n",
        "\n",
        "    In each section, use specific evidence from the transcript to support your analysis. Quote relevant parts of the transcript when appropriate, using quotation marks.\n",
        "\n",
        "    After completing the structured analysis, provide a concise summary of your findings in a separate section:\n",
        "\n",
        "    <summary>\n",
        "    Summarize the key points of your analysis and the overall effectiveness of the seminar in addressing innovation and transformation in the classroom\n",
        "    </summary>\n",
        "\n",
        "    Remember to base your analysis solely on the content provided in the transcript. If certain aspects are not addressed in the transcript, you may note their absence in your analysis.\n",
        "\n",
        "    \\n\\nAssistant:\n",
        "    \"\"\"\n",
        "\n",
        "    # Inicializar el cliente con la API key\n",
        "    client = Anthropic(api_key=os.environ[\"ANTHROPIC_API_KEY\"])\n",
        "\n",
        "    # Llamada a la API\n",
        "\n",
        "    response = client.completions.create(\n",
        "    prompt=prompt,\n",
        "    model=\"claude-3-5-sonnet-20241022\",\n",
        "    max_tokens_to_sample=4096,\n",
        "    stop_sequences=[\"\\n\\n\"]\n",
        "    )\n",
        "    print(\"Respuesta de la API:\\n\", response)\n",
        "\n",
        "\n",
        "# Cargar el texto de la transcripción\n",
        "with open(\"transcription.txt\", \"r\") as f:\n",
        "    transcription_text = f.read()\n",
        "\n",
        "# Realizar el análisis\n",
        "analysis = analyze_discourse(transcription_text)\n",
        "\n",
        "# Mostrar el análisis\n",
        "print(\"Análisis de Discurso:\\n\", analysis)\n",
        "\n",
        "# Guardar el análisis en un archivo\n",
        "with open(\"discourse_analysis.txt\", \"w\") as f:\n",
        "    f.write(analysis)\n",
        "\n",
        "print(\"El análisis ha sido guardado en 'discourse_analysis.txt'.\")\n"
      ],
      "metadata": {
        "colab": {
          "base_uri": "https://localhost:8080/",
          "height": 400
        },
        "id": "JXHj4xxyvtiy",
        "outputId": "af4c9327-2d7a-43fe-b9cf-316ffdd1caf9"
      },
      "execution_count": 13,
      "outputs": [
        {
          "output_type": "error",
          "ename": "BadRequestError",
          "evalue": "Error code: 400 - {'type': 'error', 'error': {'type': 'invalid_request_error', 'message': '\"claude-3-5-sonnet-20241022\" is not supported on this API. Please use the Messages API instead.'}}",
          "traceback": [
            "\u001b[0;31m---------------------------------------------------------------------------\u001b[0m",
            "\u001b[0;31mBadRequestError\u001b[0m                           Traceback (most recent call last)",
            "\u001b[0;32m<ipython-input-13-d54666808ad8>\u001b[0m in \u001b[0;36m<cell line: 0>\u001b[0;34m()\u001b[0m\n\u001b[1;32m     90\u001b[0m \u001b[0;34m\u001b[0m\u001b[0m\n\u001b[1;32m     91\u001b[0m \u001b[0;31m# Realizar el análisis\u001b[0m\u001b[0;34m\u001b[0m\u001b[0;34m\u001b[0m\u001b[0m\n\u001b[0;32m---> 92\u001b[0;31m \u001b[0manalysis\u001b[0m \u001b[0;34m=\u001b[0m \u001b[0manalyze_discourse\u001b[0m\u001b[0;34m(\u001b[0m\u001b[0mtranscription_text\u001b[0m\u001b[0;34m)\u001b[0m\u001b[0;34m\u001b[0m\u001b[0;34m\u001b[0m\u001b[0m\n\u001b[0m\u001b[1;32m     93\u001b[0m \u001b[0;34m\u001b[0m\u001b[0m\n\u001b[1;32m     94\u001b[0m \u001b[0;31m# Mostrar el análisis\u001b[0m\u001b[0;34m\u001b[0m\u001b[0;34m\u001b[0m\u001b[0m\n",
            "\u001b[0;32m<ipython-input-13-d54666808ad8>\u001b[0m in \u001b[0;36manalyze_discourse\u001b[0;34m(text)\u001b[0m\n\u001b[1;32m     76\u001b[0m     \u001b[0;31m# Llamada a la API\u001b[0m\u001b[0;34m\u001b[0m\u001b[0;34m\u001b[0m\u001b[0m\n\u001b[1;32m     77\u001b[0m \u001b[0;34m\u001b[0m\u001b[0m\n\u001b[0;32m---> 78\u001b[0;31m     response = client.completions.create(\n\u001b[0m\u001b[1;32m     79\u001b[0m     \u001b[0mprompt\u001b[0m\u001b[0;34m=\u001b[0m\u001b[0mprompt\u001b[0m\u001b[0;34m,\u001b[0m\u001b[0;34m\u001b[0m\u001b[0;34m\u001b[0m\u001b[0m\n\u001b[1;32m     80\u001b[0m     \u001b[0mmodel\u001b[0m\u001b[0;34m=\u001b[0m\u001b[0;34m\"claude-3-5-sonnet-20241022\"\u001b[0m\u001b[0;34m,\u001b[0m\u001b[0;34m\u001b[0m\u001b[0;34m\u001b[0m\u001b[0m\n",
            "\u001b[0;32m/usr/local/lib/python3.11/dist-packages/anthropic/_utils/_utils.py\u001b[0m in \u001b[0;36mwrapper\u001b[0;34m(*args, **kwargs)\u001b[0m\n\u001b[1;32m    273\u001b[0m                         \u001b[0mmsg\u001b[0m \u001b[0;34m=\u001b[0m \u001b[0;34mf\"Missing required argument: {quote(missing[0])}\"\u001b[0m\u001b[0;34m\u001b[0m\u001b[0;34m\u001b[0m\u001b[0m\n\u001b[1;32m    274\u001b[0m                 \u001b[0;32mraise\u001b[0m \u001b[0mTypeError\u001b[0m\u001b[0;34m(\u001b[0m\u001b[0mmsg\u001b[0m\u001b[0;34m)\u001b[0m\u001b[0;34m\u001b[0m\u001b[0;34m\u001b[0m\u001b[0m\n\u001b[0;32m--> 275\u001b[0;31m             \u001b[0;32mreturn\u001b[0m \u001b[0mfunc\u001b[0m\u001b[0;34m(\u001b[0m\u001b[0;34m*\u001b[0m\u001b[0margs\u001b[0m\u001b[0;34m,\u001b[0m \u001b[0;34m**\u001b[0m\u001b[0mkwargs\u001b[0m\u001b[0;34m)\u001b[0m\u001b[0;34m\u001b[0m\u001b[0;34m\u001b[0m\u001b[0m\n\u001b[0m\u001b[1;32m    276\u001b[0m \u001b[0;34m\u001b[0m\u001b[0m\n\u001b[1;32m    277\u001b[0m         \u001b[0;32mreturn\u001b[0m \u001b[0mwrapper\u001b[0m  \u001b[0;31m# type: ignore\u001b[0m\u001b[0;34m\u001b[0m\u001b[0;34m\u001b[0m\u001b[0m\n",
            "\u001b[0;32m/usr/local/lib/python3.11/dist-packages/anthropic/resources/completions.py\u001b[0m in \u001b[0;36mcreate\u001b[0;34m(self, max_tokens_to_sample, model, prompt, metadata, stop_sequences, stream, temperature, top_k, top_p, extra_headers, extra_query, extra_body, timeout)\u001b[0m\n\u001b[1;32m    384\u001b[0m         \u001b[0;32mif\u001b[0m \u001b[0;32mnot\u001b[0m \u001b[0mis_given\u001b[0m\u001b[0;34m(\u001b[0m\u001b[0mtimeout\u001b[0m\u001b[0;34m)\u001b[0m \u001b[0;32mand\u001b[0m \u001b[0mself\u001b[0m\u001b[0;34m.\u001b[0m\u001b[0m_client\u001b[0m\u001b[0;34m.\u001b[0m\u001b[0mtimeout\u001b[0m \u001b[0;34m==\u001b[0m \u001b[0mDEFAULT_TIMEOUT\u001b[0m\u001b[0;34m:\u001b[0m\u001b[0;34m\u001b[0m\u001b[0;34m\u001b[0m\u001b[0m\n\u001b[1;32m    385\u001b[0m             \u001b[0mtimeout\u001b[0m \u001b[0;34m=\u001b[0m \u001b[0;36m600\u001b[0m\u001b[0;34m\u001b[0m\u001b[0;34m\u001b[0m\u001b[0m\n\u001b[0;32m--> 386\u001b[0;31m         return self._post(\n\u001b[0m\u001b[1;32m    387\u001b[0m             \u001b[0;34m\"/v1/complete\"\u001b[0m\u001b[0;34m,\u001b[0m\u001b[0;34m\u001b[0m\u001b[0;34m\u001b[0m\u001b[0m\n\u001b[1;32m    388\u001b[0m             body=maybe_transform(\n",
            "\u001b[0;32m/usr/local/lib/python3.11/dist-packages/anthropic/_base_client.py\u001b[0m in \u001b[0;36mpost\u001b[0;34m(self, path, cast_to, body, options, files, stream, stream_cls)\u001b[0m\n\u001b[1;32m   1280\u001b[0m             \u001b[0mmethod\u001b[0m\u001b[0;34m=\u001b[0m\u001b[0;34m\"post\"\u001b[0m\u001b[0;34m,\u001b[0m \u001b[0murl\u001b[0m\u001b[0;34m=\u001b[0m\u001b[0mpath\u001b[0m\u001b[0;34m,\u001b[0m \u001b[0mjson_data\u001b[0m\u001b[0;34m=\u001b[0m\u001b[0mbody\u001b[0m\u001b[0;34m,\u001b[0m \u001b[0mfiles\u001b[0m\u001b[0;34m=\u001b[0m\u001b[0mto_httpx_files\u001b[0m\u001b[0;34m(\u001b[0m\u001b[0mfiles\u001b[0m\u001b[0;34m)\u001b[0m\u001b[0;34m,\u001b[0m \u001b[0;34m**\u001b[0m\u001b[0moptions\u001b[0m\u001b[0;34m\u001b[0m\u001b[0;34m\u001b[0m\u001b[0m\n\u001b[1;32m   1281\u001b[0m         )\n\u001b[0;32m-> 1282\u001b[0;31m         \u001b[0;32mreturn\u001b[0m \u001b[0mcast\u001b[0m\u001b[0;34m(\u001b[0m\u001b[0mResponseT\u001b[0m\u001b[0;34m,\u001b[0m \u001b[0mself\u001b[0m\u001b[0;34m.\u001b[0m\u001b[0mrequest\u001b[0m\u001b[0;34m(\u001b[0m\u001b[0mcast_to\u001b[0m\u001b[0;34m,\u001b[0m \u001b[0mopts\u001b[0m\u001b[0;34m,\u001b[0m \u001b[0mstream\u001b[0m\u001b[0;34m=\u001b[0m\u001b[0mstream\u001b[0m\u001b[0;34m,\u001b[0m \u001b[0mstream_cls\u001b[0m\u001b[0;34m=\u001b[0m\u001b[0mstream_cls\u001b[0m\u001b[0;34m)\u001b[0m\u001b[0;34m)\u001b[0m\u001b[0;34m\u001b[0m\u001b[0;34m\u001b[0m\u001b[0m\n\u001b[0m\u001b[1;32m   1283\u001b[0m \u001b[0;34m\u001b[0m\u001b[0m\n\u001b[1;32m   1284\u001b[0m     def patch(\n",
            "\u001b[0;32m/usr/local/lib/python3.11/dist-packages/anthropic/_base_client.py\u001b[0m in \u001b[0;36mrequest\u001b[0;34m(self, cast_to, options, remaining_retries, stream, stream_cls)\u001b[0m\n\u001b[1;32m    957\u001b[0m             \u001b[0mretries_taken\u001b[0m \u001b[0;34m=\u001b[0m \u001b[0;36m0\u001b[0m\u001b[0;34m\u001b[0m\u001b[0;34m\u001b[0m\u001b[0m\n\u001b[1;32m    958\u001b[0m \u001b[0;34m\u001b[0m\u001b[0m\n\u001b[0;32m--> 959\u001b[0;31m         return self._request(\n\u001b[0m\u001b[1;32m    960\u001b[0m             \u001b[0mcast_to\u001b[0m\u001b[0;34m=\u001b[0m\u001b[0mcast_to\u001b[0m\u001b[0;34m,\u001b[0m\u001b[0;34m\u001b[0m\u001b[0;34m\u001b[0m\u001b[0m\n\u001b[1;32m    961\u001b[0m             \u001b[0moptions\u001b[0m\u001b[0;34m=\u001b[0m\u001b[0moptions\u001b[0m\u001b[0;34m,\u001b[0m\u001b[0;34m\u001b[0m\u001b[0;34m\u001b[0m\u001b[0m\n",
            "\u001b[0;32m/usr/local/lib/python3.11/dist-packages/anthropic/_base_client.py\u001b[0m in \u001b[0;36m_request\u001b[0;34m(self, cast_to, options, retries_taken, stream, stream_cls)\u001b[0m\n\u001b[1;32m   1061\u001b[0m \u001b[0;34m\u001b[0m\u001b[0m\n\u001b[1;32m   1062\u001b[0m             \u001b[0mlog\u001b[0m\u001b[0;34m.\u001b[0m\u001b[0mdebug\u001b[0m\u001b[0;34m(\u001b[0m\u001b[0;34m\"Re-raising status error\"\u001b[0m\u001b[0;34m)\u001b[0m\u001b[0;34m\u001b[0m\u001b[0;34m\u001b[0m\u001b[0m\n\u001b[0;32m-> 1063\u001b[0;31m             \u001b[0;32mraise\u001b[0m \u001b[0mself\u001b[0m\u001b[0;34m.\u001b[0m\u001b[0m_make_status_error_from_response\u001b[0m\u001b[0;34m(\u001b[0m\u001b[0merr\u001b[0m\u001b[0;34m.\u001b[0m\u001b[0mresponse\u001b[0m\u001b[0;34m)\u001b[0m \u001b[0;32mfrom\u001b[0m \u001b[0;32mNone\u001b[0m\u001b[0;34m\u001b[0m\u001b[0;34m\u001b[0m\u001b[0m\n\u001b[0m\u001b[1;32m   1064\u001b[0m \u001b[0;34m\u001b[0m\u001b[0m\n\u001b[1;32m   1065\u001b[0m         return self._process_response(\n",
            "\u001b[0;31mBadRequestError\u001b[0m: Error code: 400 - {'type': 'error', 'error': {'type': 'invalid_request_error', 'message': '\"claude-3-5-sonnet-20241022\" is not supported on this API. Please use the Messages API instead.'}}"
          ]
        }
      ]
    },
    {
      "cell_type": "code",
      "execution_count": 11,
      "metadata": {
        "id": "DcZTse55xp30",
        "colab": {
          "base_uri": "https://localhost:8080/",
          "height": 400
        },
        "outputId": "4d96e45e-4a99-4e96-c748-d2393f99dce9"
      },
      "outputs": [
        {
          "output_type": "error",
          "ename": "BadRequestError",
          "evalue": "Error code: 400 - {'type': 'error', 'error': {'type': 'invalid_request_error', 'message': 'prompt must start with \"\\n\\nHuman:\" turn after an optional system prompt'}}",
          "traceback": [
            "\u001b[0;31m---------------------------------------------------------------------------\u001b[0m",
            "\u001b[0;31mBadRequestError\u001b[0m                           Traceback (most recent call last)",
            "\u001b[0;32m<ipython-input-11-1575f7026099>\u001b[0m in \u001b[0;36m<cell line: 0>\u001b[0;34m()\u001b[0m\n\u001b[1;32m     85\u001b[0m \u001b[0;34m\u001b[0m\u001b[0m\n\u001b[1;32m     86\u001b[0m \u001b[0;31m# Realizar el análisis\u001b[0m\u001b[0;34m\u001b[0m\u001b[0;34m\u001b[0m\u001b[0m\n\u001b[0;32m---> 87\u001b[0;31m \u001b[0manalysis\u001b[0m \u001b[0;34m=\u001b[0m \u001b[0manalyze_discourse\u001b[0m\u001b[0;34m(\u001b[0m\u001b[0mtranscription_text\u001b[0m\u001b[0;34m)\u001b[0m\u001b[0;34m\u001b[0m\u001b[0;34m\u001b[0m\u001b[0m\n\u001b[0m\u001b[1;32m     88\u001b[0m \u001b[0;34m\u001b[0m\u001b[0m\n\u001b[1;32m     89\u001b[0m \u001b[0;31m# Mostrar el análisis\u001b[0m\u001b[0;34m\u001b[0m\u001b[0;34m\u001b[0m\u001b[0m\n",
            "\u001b[0;32m<ipython-input-11-1575f7026099>\u001b[0m in \u001b[0;36manalyze_discourse\u001b[0;34m(text)\u001b[0m\n\u001b[1;32m     72\u001b[0m \u001b[0;34m\u001b[0m\u001b[0m\n\u001b[1;32m     73\u001b[0m     \u001b[0;31m# Llamada a la API\u001b[0m\u001b[0;34m\u001b[0m\u001b[0;34m\u001b[0m\u001b[0m\n\u001b[0;32m---> 74\u001b[0;31m     response = client.completions.create(\n\u001b[0m\u001b[1;32m     75\u001b[0m         \u001b[0mprompt\u001b[0m\u001b[0;34m=\u001b[0m\u001b[0mprompt\u001b[0m\u001b[0;34m,\u001b[0m\u001b[0;34m\u001b[0m\u001b[0;34m\u001b[0m\u001b[0m\n\u001b[1;32m     76\u001b[0m         \u001b[0mmodel\u001b[0m\u001b[0;34m=\u001b[0m\u001b[0;34m\"claude-3-5-sonnet-20241022\"\u001b[0m\u001b[0;34m,\u001b[0m\u001b[0;34m\u001b[0m\u001b[0;34m\u001b[0m\u001b[0m\n",
            "\u001b[0;32m/usr/local/lib/python3.11/dist-packages/anthropic/_utils/_utils.py\u001b[0m in \u001b[0;36mwrapper\u001b[0;34m(*args, **kwargs)\u001b[0m\n\u001b[1;32m    273\u001b[0m                         \u001b[0mmsg\u001b[0m \u001b[0;34m=\u001b[0m \u001b[0;34mf\"Missing required argument: {quote(missing[0])}\"\u001b[0m\u001b[0;34m\u001b[0m\u001b[0;34m\u001b[0m\u001b[0m\n\u001b[1;32m    274\u001b[0m                 \u001b[0;32mraise\u001b[0m \u001b[0mTypeError\u001b[0m\u001b[0;34m(\u001b[0m\u001b[0mmsg\u001b[0m\u001b[0;34m)\u001b[0m\u001b[0;34m\u001b[0m\u001b[0;34m\u001b[0m\u001b[0m\n\u001b[0;32m--> 275\u001b[0;31m             \u001b[0;32mreturn\u001b[0m \u001b[0mfunc\u001b[0m\u001b[0;34m(\u001b[0m\u001b[0;34m*\u001b[0m\u001b[0margs\u001b[0m\u001b[0;34m,\u001b[0m \u001b[0;34m**\u001b[0m\u001b[0mkwargs\u001b[0m\u001b[0;34m)\u001b[0m\u001b[0;34m\u001b[0m\u001b[0;34m\u001b[0m\u001b[0m\n\u001b[0m\u001b[1;32m    276\u001b[0m \u001b[0;34m\u001b[0m\u001b[0m\n\u001b[1;32m    277\u001b[0m         \u001b[0;32mreturn\u001b[0m \u001b[0mwrapper\u001b[0m  \u001b[0;31m# type: ignore\u001b[0m\u001b[0;34m\u001b[0m\u001b[0;34m\u001b[0m\u001b[0m\n",
            "\u001b[0;32m/usr/local/lib/python3.11/dist-packages/anthropic/resources/completions.py\u001b[0m in \u001b[0;36mcreate\u001b[0;34m(self, max_tokens_to_sample, model, prompt, metadata, stop_sequences, stream, temperature, top_k, top_p, extra_headers, extra_query, extra_body, timeout)\u001b[0m\n\u001b[1;32m    384\u001b[0m         \u001b[0;32mif\u001b[0m \u001b[0;32mnot\u001b[0m \u001b[0mis_given\u001b[0m\u001b[0;34m(\u001b[0m\u001b[0mtimeout\u001b[0m\u001b[0;34m)\u001b[0m \u001b[0;32mand\u001b[0m \u001b[0mself\u001b[0m\u001b[0;34m.\u001b[0m\u001b[0m_client\u001b[0m\u001b[0;34m.\u001b[0m\u001b[0mtimeout\u001b[0m \u001b[0;34m==\u001b[0m \u001b[0mDEFAULT_TIMEOUT\u001b[0m\u001b[0;34m:\u001b[0m\u001b[0;34m\u001b[0m\u001b[0;34m\u001b[0m\u001b[0m\n\u001b[1;32m    385\u001b[0m             \u001b[0mtimeout\u001b[0m \u001b[0;34m=\u001b[0m \u001b[0;36m600\u001b[0m\u001b[0;34m\u001b[0m\u001b[0;34m\u001b[0m\u001b[0m\n\u001b[0;32m--> 386\u001b[0;31m         return self._post(\n\u001b[0m\u001b[1;32m    387\u001b[0m             \u001b[0;34m\"/v1/complete\"\u001b[0m\u001b[0;34m,\u001b[0m\u001b[0;34m\u001b[0m\u001b[0;34m\u001b[0m\u001b[0m\n\u001b[1;32m    388\u001b[0m             body=maybe_transform(\n",
            "\u001b[0;32m/usr/local/lib/python3.11/dist-packages/anthropic/_base_client.py\u001b[0m in \u001b[0;36mpost\u001b[0;34m(self, path, cast_to, body, options, files, stream, stream_cls)\u001b[0m\n\u001b[1;32m   1280\u001b[0m             \u001b[0mmethod\u001b[0m\u001b[0;34m=\u001b[0m\u001b[0;34m\"post\"\u001b[0m\u001b[0;34m,\u001b[0m \u001b[0murl\u001b[0m\u001b[0;34m=\u001b[0m\u001b[0mpath\u001b[0m\u001b[0;34m,\u001b[0m \u001b[0mjson_data\u001b[0m\u001b[0;34m=\u001b[0m\u001b[0mbody\u001b[0m\u001b[0;34m,\u001b[0m \u001b[0mfiles\u001b[0m\u001b[0;34m=\u001b[0m\u001b[0mto_httpx_files\u001b[0m\u001b[0;34m(\u001b[0m\u001b[0mfiles\u001b[0m\u001b[0;34m)\u001b[0m\u001b[0;34m,\u001b[0m \u001b[0;34m**\u001b[0m\u001b[0moptions\u001b[0m\u001b[0;34m\u001b[0m\u001b[0;34m\u001b[0m\u001b[0m\n\u001b[1;32m   1281\u001b[0m         )\n\u001b[0;32m-> 1282\u001b[0;31m         \u001b[0;32mreturn\u001b[0m \u001b[0mcast\u001b[0m\u001b[0;34m(\u001b[0m\u001b[0mResponseT\u001b[0m\u001b[0;34m,\u001b[0m \u001b[0mself\u001b[0m\u001b[0;34m.\u001b[0m\u001b[0mrequest\u001b[0m\u001b[0;34m(\u001b[0m\u001b[0mcast_to\u001b[0m\u001b[0;34m,\u001b[0m \u001b[0mopts\u001b[0m\u001b[0;34m,\u001b[0m \u001b[0mstream\u001b[0m\u001b[0;34m=\u001b[0m\u001b[0mstream\u001b[0m\u001b[0;34m,\u001b[0m \u001b[0mstream_cls\u001b[0m\u001b[0;34m=\u001b[0m\u001b[0mstream_cls\u001b[0m\u001b[0;34m)\u001b[0m\u001b[0;34m)\u001b[0m\u001b[0;34m\u001b[0m\u001b[0;34m\u001b[0m\u001b[0m\n\u001b[0m\u001b[1;32m   1283\u001b[0m \u001b[0;34m\u001b[0m\u001b[0m\n\u001b[1;32m   1284\u001b[0m     def patch(\n",
            "\u001b[0;32m/usr/local/lib/python3.11/dist-packages/anthropic/_base_client.py\u001b[0m in \u001b[0;36mrequest\u001b[0;34m(self, cast_to, options, remaining_retries, stream, stream_cls)\u001b[0m\n\u001b[1;32m    957\u001b[0m             \u001b[0mretries_taken\u001b[0m \u001b[0;34m=\u001b[0m \u001b[0;36m0\u001b[0m\u001b[0;34m\u001b[0m\u001b[0;34m\u001b[0m\u001b[0m\n\u001b[1;32m    958\u001b[0m \u001b[0;34m\u001b[0m\u001b[0m\n\u001b[0;32m--> 959\u001b[0;31m         return self._request(\n\u001b[0m\u001b[1;32m    960\u001b[0m             \u001b[0mcast_to\u001b[0m\u001b[0;34m=\u001b[0m\u001b[0mcast_to\u001b[0m\u001b[0;34m,\u001b[0m\u001b[0;34m\u001b[0m\u001b[0;34m\u001b[0m\u001b[0m\n\u001b[1;32m    961\u001b[0m             \u001b[0moptions\u001b[0m\u001b[0;34m=\u001b[0m\u001b[0moptions\u001b[0m\u001b[0;34m,\u001b[0m\u001b[0;34m\u001b[0m\u001b[0;34m\u001b[0m\u001b[0m\n",
            "\u001b[0;32m/usr/local/lib/python3.11/dist-packages/anthropic/_base_client.py\u001b[0m in \u001b[0;36m_request\u001b[0;34m(self, cast_to, options, retries_taken, stream, stream_cls)\u001b[0m\n\u001b[1;32m   1061\u001b[0m \u001b[0;34m\u001b[0m\u001b[0m\n\u001b[1;32m   1062\u001b[0m             \u001b[0mlog\u001b[0m\u001b[0;34m.\u001b[0m\u001b[0mdebug\u001b[0m\u001b[0;34m(\u001b[0m\u001b[0;34m\"Re-raising status error\"\u001b[0m\u001b[0;34m)\u001b[0m\u001b[0;34m\u001b[0m\u001b[0;34m\u001b[0m\u001b[0m\n\u001b[0;32m-> 1063\u001b[0;31m             \u001b[0;32mraise\u001b[0m \u001b[0mself\u001b[0m\u001b[0;34m.\u001b[0m\u001b[0m_make_status_error_from_response\u001b[0m\u001b[0;34m(\u001b[0m\u001b[0merr\u001b[0m\u001b[0;34m.\u001b[0m\u001b[0mresponse\u001b[0m\u001b[0;34m)\u001b[0m \u001b[0;32mfrom\u001b[0m \u001b[0;32mNone\u001b[0m\u001b[0;34m\u001b[0m\u001b[0;34m\u001b[0m\u001b[0m\n\u001b[0m\u001b[1;32m   1064\u001b[0m \u001b[0;34m\u001b[0m\u001b[0m\n\u001b[1;32m   1065\u001b[0m         return self._process_response(\n",
            "\u001b[0;31mBadRequestError\u001b[0m: Error code: 400 - {'type': 'error', 'error': {'type': 'invalid_request_error', 'message': 'prompt must start with \"\\n\\nHuman:\" turn after an optional system prompt'}}"
          ]
        }
      ],
      "source": [
        "from anthropic import Anthropic\n",
        "\n",
        "def analyze_discourse(text):\n",
        "    \"\"\"\n",
        "    Realiza un análisis de discurso usando la API de Anthropic.\n",
        "    \"\"\"\n",
        "    # Definir un prompt ajustado al contexto del análisis\n",
        "    prompt = f\"\"\"\n",
        "    You are tasked with analyzing the discourse of an audio transcript from a seminar on innovating and transforming the classroom. Your goal is to provide insights into the content, structure, and key themes of the seminar.\n",
        "\n",
        "    Here is the transcript of the audio:\n",
        "\n",
        "    <transcript>\n",
        "    {text}\n",
        "    </transcript>\n",
        "\n",
        "    Analyze the discourse of this seminar, focusing on the following areas:\n",
        "\n",
        "    1. Main themes and topics discussed\n",
        "    2. Innovative ideas or strategies presented\n",
        "    3. Structure and flow of the seminar\n",
        "    4. Speaker's communication style and effectiveness\n",
        "    5. Audience engagement (if applicable)\n",
        "    6. Use of examples or case studies\n",
        "    7. Potential impact on classroom transformation\n",
        "\n",
        "    Provide your analysis in a structured format with the following sections:\n",
        "\n",
        "    <analysis>\n",
        "    <themes>\n",
        "    Discuss the main themes and topics of the seminar\n",
        "    </themes>\n",
        "\n",
        "    <innovation>\n",
        "    Highlight the innovative ideas or strategies presented for classroom transformation\n",
        "    </innovation>\n",
        "\n",
        "    <structure>\n",
        "    Analyze the structure and flow of the seminar\n",
        "    </structure>\n",
        "\n",
        "    <communication>\n",
        "    Evaluate the speaker's communication style and effectiveness\n",
        "    </communication>\n",
        "\n",
        "    <engagement>\n",
        "    Discuss any evidence of audience engagement or interaction\n",
        "    </engagement>\n",
        "\n",
        "    <examples>\n",
        "    Highlight any significant examples or case studies used\n",
        "    </examples>\n",
        "\n",
        "    <impact>\n",
        "    Assess the potential impact of the ideas presented on classroom transformation\n",
        "    </impact>\n",
        "    </analysis>\n",
        "\n",
        "    In each section, use specific evidence from the transcript to support your analysis. Quote relevant parts of the transcript when appropriate, using quotation marks.\n",
        "\n",
        "    After completing the structured analysis, provide a concise summary of your findings in a separate section:\n",
        "\n",
        "    <summary>\n",
        "    Summarize the key points of your analysis and the overall effectiveness of the seminar in addressing innovation and transformation in the classroom\n",
        "    </summary>\n",
        "\n",
        "    Remember to base your analysis solely on the content provided in the transcript. If certain aspects are not addressed in the transcript, you may note their absence in your analysis.\n",
        "    \"\"\"\n",
        "\n",
        "    # Inicializar el cliente con la API key\n",
        "    client = Anthropic(api_key=os.environ[\"ANTHROPIC_API_KEY\"])\n",
        "\n",
        "    # Llamada a la API\n",
        "    response = client.completions.create(\n",
        "        prompt=prompt,\n",
        "        model=\"claude-3-5-sonnet-20241022\",\n",
        "        max_tokens_to_sample=4096,\n",
        "        stop_sequences=[\"\\n\\n\"]\n",
        "    )\n",
        "    return response[\"completion\"]\n",
        "\n",
        "# Cargar el texto de la transcripción\n",
        "with open(\"transcription.txt\", \"r\") as f:\n",
        "    transcription_text = f.read()\n",
        "\n",
        "# Realizar el análisis\n",
        "analysis = analyze_discourse(transcription_text)\n",
        "\n",
        "# Mostrar el análisis\n",
        "print(\"Análisis de Discurso:\\n\", analysis)\n",
        "\n",
        "# Guardar el análisis en un archivo\n",
        "with open(\"discourse_analysis.txt\", \"w\") as f:\n",
        "    f.write(analysis)\n",
        "\n",
        "print(\"El análisis ha sido guardado en 'discourse_analysis.txt'.\")\n"
      ]
    },
    {
      "cell_type": "markdown",
      "metadata": {
        "id": "xhqa-HdByBNF"
      },
      "source": [
        "### Nubes de palabras"
      ]
    },
    {
      "cell_type": "code",
      "execution_count": null,
      "metadata": {
        "id": "5M6YeZNqyDdr"
      },
      "outputs": [],
      "source": [
        "!pip install wordcloud matplotlib\n"
      ]
    },
    {
      "cell_type": "code",
      "execution_count": null,
      "metadata": {
        "id": "ih8I35ubyALT"
      },
      "outputs": [],
      "source": [
        "from wordcloud import WordCloud\n",
        "import matplotlib.pyplot as plt\n",
        "\n",
        "def generate_wordcloud(text):\n",
        "    wordcloud = WordCloud(width=800, height=400, background_color=\"white\").generate(text)\n",
        "    plt.figure(figsize=(10, 5))\n",
        "    plt.imshow(wordcloud, interpolation=\"bilinear\")\n",
        "    plt.axis(\"off\")\n",
        "    plt.title(\"Nube de Palabras del Discurso\", fontsize=16)\n",
        "    plt.show()\n",
        "\n",
        "# Generar la nube de palabras a partir del texto de la transcripción\n",
        "generate_wordcloud(transcription_text)\n"
      ]
    },
    {
      "cell_type": "markdown",
      "metadata": {
        "id": "cL2eDnMCyFdX"
      },
      "source": [
        "### Análisis de Sentimientos"
      ]
    },
    {
      "cell_type": "code",
      "execution_count": null,
      "metadata": {
        "id": "UoWT_ZayyK8L"
      },
      "outputs": [],
      "source": [
        "!pip install transformers\n"
      ]
    },
    {
      "cell_type": "code",
      "execution_count": null,
      "metadata": {
        "id": "-RGy7debyJY2"
      },
      "outputs": [],
      "source": [
        "from transformers import pipeline\n",
        "\n",
        "# Crear pipeline de análisis de sentimientos\n",
        "sentiment_analyzer = pipeline(\"sentiment-analysis\")\n",
        "\n",
        "# Dividir el texto en párrafos y analizar cada uno\n",
        "sentiments = sentiment_analyzer(transcription_text.split(\"\\n\"))\n",
        "\n",
        "# Mostrar los resultados\n",
        "for idx, sentiment in enumerate(sentiments):\n",
        "    print(f\"Párrafo {idx + 1}: {sentiment}\")\n"
      ]
    },
    {
      "cell_type": "markdown",
      "metadata": {
        "id": "hstnTbaKyNjz"
      },
      "source": [
        "### Gráficos para Análisis de Temas"
      ]
    },
    {
      "cell_type": "code",
      "execution_count": null,
      "metadata": {
        "id": "u1p_Dv99yRKX"
      },
      "outputs": [],
      "source": [
        "!pip install gensim pyLDAvis\n"
      ]
    },
    {
      "cell_type": "code",
      "execution_count": null,
      "metadata": {
        "id": "whGZjRGzyOwp"
      },
      "outputs": [],
      "source": [
        "from gensim import corpora\n",
        "from gensim.models.ldamodel import LdaModel\n",
        "import pyLDAvis.gensim_models as gensimvis\n",
        "import pyLDAvis\n",
        "\n",
        "# Preprocesar el texto\n",
        "from nltk.tokenize import word_tokenize\n",
        "from nltk.corpus import stopwords\n",
        "import nltk\n",
        "\n",
        "nltk.download(\"punkt\")\n",
        "nltk.download(\"stopwords\")\n",
        "\n",
        "def preprocess_text(text):\n",
        "    tokens = word_tokenize(text.lower())\n",
        "    stop_words = set(stopwords.words(\"english\"))\n",
        "    return [word for word in tokens if word.isalnum() and word not in stop_words]\n",
        "\n",
        "# Tokenizar la transcripción\n",
        "tokens = preprocess_text(transcription_text)\n",
        "\n",
        "# Crear un diccionario y un corpus\n",
        "dictionary = corpora.Dictionary([tokens])\n",
        "corpus = [dictionary.doc2bow(tokens)]\n",
        "\n",
        "# Crear modelo LDA\n",
        "lda_model = LdaModel(corpus=corpus, id2word=dictionary, num_topics=5, passes=10)\n",
        "\n",
        "# Visualizar temas\n",
        "lda_vis = gensimvis.prepare(lda_model, corpus, dictionary)\n",
        "pyLDAvis.display(lda_vis)\n"
      ]
    },
    {
      "cell_type": "markdown",
      "metadata": {
        "id": "tmQMglvOyV8h"
      },
      "source": [
        "### Visualización del Impacto"
      ]
    },
    {
      "cell_type": "code",
      "execution_count": null,
      "metadata": {
        "id": "mpI6t3n3yX1B"
      },
      "outputs": [],
      "source": [
        "import matplotlib.pyplot as plt\n",
        "from collections import Counter\n",
        "\n",
        "# Contar las palabras más frecuentes\n",
        "word_counts = Counter(tokens)\n",
        "most_common_words = word_counts.most_common(10)\n",
        "\n",
        "# Gráfico de barras\n",
        "words, counts = zip(*most_common_words)\n",
        "plt.bar(words, counts)\n",
        "plt.title(\"Palabras más frecuentes\")\n",
        "plt.xticks(rotation=45)\n",
        "plt.show()\n"
      ]
    },
    {
      "cell_type": "markdown",
      "metadata": {
        "id": "-A-Fm5Y0ygCZ"
      },
      "source": [
        "### Resumen Visual\n",
        "\n",
        "Diagrama de Sankey\n",
        "\n",
        "Un diagrama de Sankey es excelente para mostrar relaciones entre temas principales y secundarios o el flujo lógico de una narrativa."
      ]
    },
    {
      "cell_type": "code",
      "execution_count": null,
      "metadata": {
        "id": "57Zg4ygUyk9y"
      },
      "outputs": [],
      "source": [
        "!pip install plotly\n"
      ]
    },
    {
      "cell_type": "code",
      "execution_count": null,
      "metadata": {
        "id": "MD74qVAcyh4p"
      },
      "outputs": [],
      "source": [
        "import plotly.graph_objects as go\n",
        "\n",
        "def create_sankey_chart(data):\n",
        "    \"\"\"\n",
        "    Crea un diagrama de Sankey para representar visualmente el resumen del discurso.\n",
        "    \"\"\"\n",
        "    # Definir los nodos (temas principales y secundarios)\n",
        "    nodes = list(set([item for sublist in data for item in sublist]))\n",
        "    node_indices = {node: i for i, node in enumerate(nodes)}\n",
        "\n",
        "    # Definir las conexiones entre los nodos\n",
        "    sources = [node_indices[source] for source, target, value in data]\n",
        "    targets = [node_indices[target] for source, target, value in data]\n",
        "    values = [value for source, target, value in data]\n",
        "\n",
        "    # Crear el diagrama de Sankey\n",
        "    fig = go.Figure(go.Sankey(\n",
        "        node=dict(\n",
        "            pad=15,\n",
        "            thickness=20,\n",
        "            line=dict(color=\"black\", width=0.5),\n",
        "            label=nodes\n",
        "        ),\n",
        "        link=dict(\n",
        "            source=sources,\n",
        "            target=targets,\n",
        "            value=values\n",
        "        )\n",
        "    ))\n",
        "\n",
        "    fig.update_layout(title_text=\"Resumen Visual del Discurso\", font_size=10)\n",
        "    fig.show()\n",
        "\n",
        "# Datos de ejemplo (modifica según el análisis del discurso)\n",
        "sankey_data = [\n",
        "    (\"Innovación\", \"Uso de tecnología\", 5),\n",
        "    (\"Innovación\", \"Ejemplos prácticos\", 3),\n",
        "    (\"Uso de tecnología\", \"Herramientas digitales\", 2),\n",
        "    (\"Uso de tecnología\", \"Aplicaciones móviles\", 3),\n",
        "    (\"Ejemplos prácticos\", \"Casos reales\", 4),\n",
        "    (\"Casos reales\", \"Impacto en el aula\", 6),\n",
        "]\n",
        "\n",
        "# Crear el diagrama\n",
        "create_sankey_chart(sankey_data)\n"
      ]
    },
    {
      "cell_type": "markdown",
      "metadata": {
        "id": "UiuPQuyfytcB"
      },
      "source": [
        "Mapa Mental\n",
        "\n",
        "Si prefieres un mapa mental, podemos usar networkx y matplotlib para generar un gráfico de nodos."
      ]
    },
    {
      "cell_type": "code",
      "execution_count": null,
      "metadata": {
        "id": "zjKTpsw4yxHM"
      },
      "outputs": [],
      "source": [
        "!pip install networkx matplotlib\n"
      ]
    },
    {
      "cell_type": "code",
      "execution_count": null,
      "metadata": {
        "id": "gpuxeeEEyuOd"
      },
      "outputs": [],
      "source": [
        "import networkx as nx\n",
        "import matplotlib.pyplot as plt\n",
        "\n",
        "def create_mind_map(data):\n",
        "    \"\"\"\n",
        "    Crea un mapa mental para representar visualmente el discurso.\n",
        "    \"\"\"\n",
        "    G = nx.DiGraph()\n",
        "\n",
        "    # Agregar nodos y relaciones\n",
        "    for source, target, _ in data:\n",
        "        G.add_edge(source, target)\n",
        "\n",
        "    # Crear el diseño del gráfico\n",
        "    pos = nx.spring_layout(G, k=0.5, iterations=50)\n",
        "    plt.figure(figsize=(12, 8))\n",
        "    nx.draw_networkx(\n",
        "        G, pos, with_labels=True, node_color=\"lightblue\", edge_color=\"gray\",\n",
        "        font_size=10, font_weight=\"bold\", node_size=3000\n",
        "    )\n",
        "    plt.title(\"Mapa Mental del Discurso\", fontsize=16)\n",
        "    plt.axis(\"off\")\n",
        "    plt.show()\n",
        "\n",
        "# Usar los mismos datos de ejemplo\n",
        "create_mind_map(sankey_data)\n"
      ]
    },
    {
      "cell_type": "markdown",
      "metadata": {
        "id": "ZCz4eQd4y68P"
      },
      "source": [
        "### Grafo con networkx y matplotlib\n"
      ]
    },
    {
      "cell_type": "code",
      "execution_count": null,
      "metadata": {
        "id": "_5pNxrXLy99x"
      },
      "outputs": [],
      "source": [
        "!pip install networkx matplotlib\n",
        "\n",
        "import networkx as nx\n",
        "import matplotlib.pyplot as plt\n",
        "\n",
        "def create_graph(data):\n",
        "    \"\"\"\n",
        "    Crea un grafo simple para representar las conexiones entre temas.\n",
        "    \"\"\"\n",
        "    G = nx.Graph()\n",
        "\n",
        "    # Agregar nodos y relaciones desde los datos\n",
        "    for source, target, weight in data:\n",
        "        G.add_edge(source, target, weight=weight)\n",
        "\n",
        "    # Crear un diseño para el grafo\n",
        "    pos = nx.spring_layout(G, k=0.5)\n",
        "\n",
        "    # Dibujar el grafo\n",
        "    plt.figure(figsize=(12, 8))\n",
        "    nx.draw(\n",
        "        G, pos, with_labels=True, node_color=\"skyblue\", edge_color=\"gray\",\n",
        "        font_size=10, font_weight=\"bold\", node_size=3000\n",
        "    )\n",
        "\n",
        "    # Agregar etiquetas para los pesos de las conexiones\n",
        "    edge_labels = nx.get_edge_attributes(G, 'weight')\n",
        "    nx.draw_networkx_edge_labels(G, pos, edge_labels=edge_labels, font_size=9)\n",
        "\n",
        "    plt.title(\"Grafo de Temas del Discurso\", fontsize=16)\n",
        "    plt.axis(\"off\")\n",
        "    plt.show()\n",
        "\n",
        "# Datos de ejemplo (tema principal, tema relacionado, peso de conexión)\n",
        "graph_data = [\n",
        "    (\"Innovación\", \"Uso de tecnología\", 5),\n",
        "    (\"Innovación\", \"Ejemplos prácticos\", 3),\n",
        "    (\"Uso de tecnología\", \"Herramientas digitales\", 4),\n",
        "    (\"Ejemplos prácticos\", \"Casos reales\", 2),\n",
        "    (\"Casos reales\", \"Impacto en el aula\", 6)\n",
        "]\n",
        "\n",
        "# Crear el grafo\n",
        "create_graph(graph_data)\n"
      ]
    },
    {
      "cell_type": "markdown",
      "metadata": {
        "id": "yLBvdyTIy-au"
      },
      "source": [
        "### Grafo Interactivo con pyvis\n"
      ]
    },
    {
      "cell_type": "code",
      "execution_count": null,
      "metadata": {
        "id": "4xMY-i8_zDaz"
      },
      "outputs": [],
      "source": [
        "!pip install pyvis\n"
      ]
    },
    {
      "cell_type": "code",
      "execution_count": null,
      "metadata": {
        "id": "VRljz8DCzA3T"
      },
      "outputs": [],
      "source": [
        "from pyvis.network import Network\n",
        "\n",
        "def create_interactive_graph(data):\n",
        "    \"\"\"\n",
        "    Crea un grafo interactivo usando pyvis.\n",
        "    \"\"\"\n",
        "    net = Network(notebook=True, height=\"750px\", width=\"100%\", bgcolor=\"#ffffff\", font_color=\"black\")\n",
        "\n",
        "    # Agregar nodos y relaciones desde los datos\n",
        "    for source, target, weight in data:\n",
        "        net.add_node(source, title=source)\n",
        "        net.add_node(target, title=target)\n",
        "        net.add_edge(source, target, value=weight)\n",
        "\n",
        "    # Configurar opciones del grafo\n",
        "    net.set_options('''\n",
        "    var options = {\n",
        "      \"nodes\": {\n",
        "        \"color\": {\n",
        "          \"border\": \"rgba(0,0,0,1)\",\n",
        "          \"background\": \"rgba(135,206,250,1)\"\n",
        "        }\n",
        "      },\n",
        "      \"edges\": {\n",
        "        \"color\": {\n",
        "          \"inherit\": true\n",
        "        },\n",
        "        \"smooth\": {\n",
        "          \"type\": \"dynamic\"\n",
        "        }\n",
        "      }\n",
        "    }\n",
        "    ''')\n",
        "\n",
        "    # Mostrar el grafo\n",
        "    net.show(\"graph.html\")\n",
        "\n",
        "# Crear el grafo interactivo\n",
        "create_interactive_graph(graph_data)\n"
      ]
    },
    {
      "cell_type": "markdown",
      "metadata": {
        "id": "usXq9RqKzPYG"
      },
      "source": [
        "## Datos Dinámicos:\n",
        "\n",
        "Usa un modelo LLM para extraer automáticamente temas principales, relaciones, y pesos del discurso"
      ]
    },
    {
      "cell_type": "code",
      "execution_count": null,
      "metadata": {
        "id": "OWso-WoLzQVH"
      },
      "outputs": [],
      "source": [
        "from anthropic import Client\n",
        "import os\n",
        "\n",
        "# Cliente de Anthropic\n",
        "client = Client(api_key=os.environ[\"ANTHROPIC_API_KEY\"])\n",
        "\n",
        "def extract_topics_and_relations(text):\n",
        "    \"\"\"\n",
        "    Extrae temas principales, relaciones y pesos del discurso usando un LLM.\n",
        "    \"\"\"\n",
        "    prompt = f\"\"\"\n",
        "    You are an expert in discourse analysis. Based on the following transcript, extract the main topics, their subtopics,\n",
        "    and the relationships between them. Include a relevance score (1-10) for each relationship.\n",
        "\n",
        "    Transcript:\n",
        "    {text}\n",
        "\n",
        "    Provide the output in the following format:\n",
        "    [\n",
        "        (\"Main Topic\", \"Related Topic\", Relevance Score),\n",
        "        ...\n",
        "    ]\n",
        "    \"\"\"\n",
        "    response = client.completion(\n",
        "        prompt=prompt,\n",
        "        model=\"claude-3-5-sonnet-20241022\",\n",
        "        max_tokens_to_sample=1000,\n",
        "        stop_sequences=[\"\\n\\n\"]\n",
        "    )\n",
        "    return eval(response[\"completion\"])\n",
        "\n",
        "# Usar la función en la transcripción\n",
        "with open(\"transcription.txt\", \"r\") as f:\n",
        "    transcription_text = f.read()\n",
        "\n",
        "relations_data = extract_topics_and_relations(transcription_text)\n",
        "print(\"Relaciones extraídas:\\n\", relations_data)\n"
      ]
    },
    {
      "cell_type": "markdown",
      "metadata": {
        "id": "DXnPE5EUzT8p"
      },
      "source": [
        "## Crear un Grafo Dinámico con los Datos Extraídos\n",
        "Ahora que tenemos los datos generados, podemos usarlos para construir un grafo dinámico.\n",
        "\n",
        "Grafo Dinámico con pyvis:"
      ]
    },
    {
      "cell_type": "code",
      "execution_count": null,
      "metadata": {
        "id": "AVRhto_DzW8h"
      },
      "outputs": [],
      "source": [
        "from pyvis.network import Network\n",
        "\n",
        "def create_dynamic_graph(data):\n",
        "    \"\"\"\n",
        "    Crea un grafo interactivo usando datos generados por un modelo LLM.\n",
        "    \"\"\"\n",
        "    net = Network(notebook=True, height=\"750px\", width=\"100%\", bgcolor=\"#ffffff\", font_color=\"black\")\n",
        "\n",
        "    # Agregar nodos y relaciones\n",
        "    for source, target, weight in data:\n",
        "        net.add_node(source, title=source)\n",
        "        net.add_node(target, title=target)\n",
        "        net.add_edge(source, target, value=weight)\n",
        "\n",
        "    # Configurar opciones del grafo\n",
        "    net.set_options('''\n",
        "    var options = {\n",
        "      \"nodes\": {\n",
        "        \"color\": {\n",
        "          \"border\": \"rgba(0,0,0,1)\",\n",
        "          \"background\": \"rgba(135,206,250,1)\"\n",
        "        }\n",
        "      },\n",
        "      \"edges\": {\n",
        "        \"color\": {\n",
        "          \"inherit\": true\n",
        "        },\n",
        "        \"smooth\": {\n",
        "          \"type\": \"dynamic\"\n",
        "        }\n",
        "      }\n",
        "    }\n",
        "    ''')\n",
        "\n",
        "    # Mostrar el grafo\n",
        "    net.show(\"dynamic_graph.html\")\n",
        "\n",
        "# Crear el grafo dinámico con los datos extraídos\n",
        "create_dynamic_graph(relations_data)\n"
      ]
    },
    {
      "cell_type": "markdown",
      "metadata": {
        "id": "AwJZi9Adzipx"
      },
      "source": [
        "### Nube de Palabras: Resalta Términos Frecuentes\n",
        "Crea una nube de palabras para identificar rápidamente las palabras clave más utilizadas en el discurso.\n",
        "\n"
      ]
    },
    {
      "cell_type": "code",
      "execution_count": null,
      "metadata": {
        "id": "ii2KPlNBzkDJ"
      },
      "outputs": [],
      "source": [
        "!pip install wordcloud matplotlib\n",
        "\n",
        "from wordcloud import WordCloud\n",
        "import matplotlib.pyplot as plt\n",
        "\n",
        "def generate_wordcloud_from_topics(data):\n",
        "    \"\"\"\n",
        "    Genera una nube de palabras basada en los temas y sus pesos.\n",
        "    \"\"\"\n",
        "    # Crear un diccionario con temas y pesos\n",
        "    topic_weights = {source: weight for source, _, weight in data}\n",
        "    topic_weights.update({target: weight for _, target, weight in data})\n",
        "\n",
        "    # Generar la nube de palabras\n",
        "    wordcloud = WordCloud(width=800, height=400, background_color=\"white\").generate_from_frequencies(topic_weights)\n",
        "\n",
        "    # Mostrar la nube de palabras\n",
        "    plt.figure(figsize=(10, 5))\n",
        "    plt.imshow(wordcloud, interpolation=\"bilinear\")\n",
        "    plt.axis(\"off\")\n",
        "    plt.title(\"Nube de Palabras Basada en Temas\", fontsize=16)\n",
        "    plt.show()\n",
        "\n",
        "# Generar la nube de palabras\n",
        "generate_wordcloud_from_topics(relations_data)\n"
      ]
    },
    {
      "cell_type": "markdown",
      "metadata": {
        "id": "9bVU5mAYznMk"
      },
      "source": [
        "## Mapa de Calor: Relación Entre Temas\n",
        "Un mapa de calor (heatmap) muestra cómo de fuertes son las relaciones entre temas principales y secundarios."
      ]
    },
    {
      "cell_type": "code",
      "execution_count": null,
      "metadata": {
        "id": "8Fa2i9_2zoIz"
      },
      "outputs": [],
      "source": [
        "import seaborn as sns\n",
        "import pandas as pd\n",
        "import matplotlib.pyplot as plt\n",
        "\n",
        "def create_heatmap(data):\n",
        "    \"\"\"\n",
        "    Genera un mapa de calor para visualizar las relaciones entre temas.\n",
        "    \"\"\"\n",
        "    # Crear un DataFrame a partir de los datos\n",
        "    df = pd.DataFrame(data, columns=[\"Tema Principal\", \"Tema Relacionado\", \"Peso\"])\n",
        "\n",
        "    # Pivotar la tabla para crear la matriz\n",
        "    matrix = df.pivot(\"Tema Principal\", \"Tema Relacionado\", \"Peso\")\n",
        "\n",
        "    # Crear el mapa de calor\n",
        "    plt.figure(figsize=(10, 8))\n",
        "    sns.heatmap(matrix, annot=True, cmap=\"Blues\", fmt=\".1f\")\n",
        "    plt.title(\"Mapa de Calor de Relaciones entre Temas\", fontsize=16)\n",
        "    plt.show()\n",
        "\n",
        "# Generar el mapa de calor\n",
        "create_heatmap(relations_data)\n"
      ]
    },
    {
      "cell_type": "markdown",
      "metadata": {
        "id": "QjW7WbeszrvZ"
      },
      "source": [
        "## Análisis Temporal: Evolución de Temas\n",
        "Si tu discurso está dividido en segmentos temporales (e.g., minutos o secciones), puedes analizar cómo evolucionan los temas a lo largo del tiempo.\n",
        "\n"
      ]
    },
    {
      "cell_type": "code",
      "execution_count": null,
      "metadata": {
        "id": "0EeBbBNFzrV9"
      },
      "outputs": [],
      "source": [
        "import matplotlib.pyplot as plt\n",
        "\n",
        "def plot_topic_evolution(data, timestamps):\n",
        "    \"\"\"\n",
        "    Visualiza la evolución de los temas principales en el tiempo.\n",
        "    \"\"\"\n",
        "    # Crear un diccionario para contar la aparición de temas por timestamp\n",
        "    topic_evolution = {topic: [0] * len(timestamps) for topic, _, _ in data}\n",
        "\n",
        "    # Llenar el diccionario con datos\n",
        "    for i, (topic, _, weight) in enumerate(data):\n",
        "        topic_evolution[topic][i % len(timestamps)] += weight\n",
        "\n",
        "    # Graficar la evolución\n",
        "    plt.figure(figsize=(12, 6))\n",
        "    for topic, values in topic_evolution.items():\n",
        "        plt.plot(timestamps, values, label=topic)\n",
        "\n",
        "    plt.title(\"Evolución de Temas en el Tiempo\", fontsize=16)\n",
        "    plt.xlabel(\"Tiempo\")\n",
        "    plt.ylabel(\"Relevancia\")\n",
        "    plt.legend()\n",
        "    plt.show()\n",
        "\n",
        "# Ejemplo de timestamps (ajusta según tu análisis)\n",
        "timestamps = [\"Inicio\", \"Mitad\", \"Final\"]\n",
        "plot_topic_evolution(relations_data, timestamps)\n"
      ]
    },
    {
      "cell_type": "markdown",
      "metadata": {
        "id": "uXW9Nk_hzvZA"
      },
      "source": [
        "## Árbol Jerárquico: Relación Principal-Secundaria\n",
        "Visualiza los temas en forma de árbol jerárquico, con los temas principales como nodos padres y los secundarios como hijos"
      ]
    },
    {
      "cell_type": "code",
      "execution_count": null,
      "metadata": {
        "id": "cckgI31RzxCH"
      },
      "outputs": [],
      "source": [
        "!pip install plotly\n",
        "\n",
        "import plotly.graph_objects as go\n",
        "\n",
        "def create_tree_map(data):\n",
        "    \"\"\"\n",
        "    Genera un árbol jerárquico para mostrar relaciones entre temas.\n",
        "    \"\"\"\n",
        "    labels = []\n",
        "    parents = []\n",
        "\n",
        "    for source, target, weight in data:\n",
        "        labels.append(target)\n",
        "        parents.append(source)\n",
        "\n",
        "    fig = go.Figure(go.Treemap(\n",
        "        labels=labels + [\"Total\"],\n",
        "        parents=parents + [\"\"],\n",
        "        values=[weight for _, _, weight in data] + [sum(weight for _, _, weight in data)]\n",
        "    ))\n",
        "\n",
        "    fig.update_layout(title=\"Árbol Jerárquico de Temas\")\n",
        "    fig.show()\n",
        "\n",
        "# Crear el árbol jerárquico\n",
        "create_tree_map(relations_data)\n"
      ]
    },
    {
      "cell_type": "markdown",
      "metadata": {
        "id": "kf_ovIp5zzkn"
      },
      "source": [
        "## Predicciones y Análisis Contextual:\n",
        "Usa un modelo de lenguaje para:\n",
        "\n",
        "Generar predicciones sobre el impacto de los temas en el contexto del discurso (e.g., \"¿Cómo impactará X en la educación?\").\n",
        "\n",
        "Identificar conexiones ocultas entre temas que no son evidentes en el análisis inicial."
      ]
    },
    {
      "cell_type": "code",
      "execution_count": null,
      "metadata": {
        "id": "pGFlGIqmz2rp"
      },
      "outputs": [],
      "source": [
        "def generate_additional_insights(text):\n",
        "    prompt = f\"\"\"\n",
        "    Based on the following topics and relationships, provide additional insights or predictions:\n",
        "    {relations_data}\n",
        "\n",
        "    Insights should include:\n",
        "    1. Hidden connections between topics.\n",
        "    2. Future trends related to these topics.\n",
        "    3. Recommendations for further exploration.\n",
        "\n",
        "    Transcript:\n",
        "    {text}\n",
        "    \"\"\"\n",
        "    response = client.completion(\n",
        "        prompt=prompt,\n",
        "        model=\"claude-3-5-sonnet-20241022\",\n",
        "        max_tokens_to_sample=1000\n",
        "    )\n",
        "    return response[\"completion\"]\n",
        "\n",
        "additional_insights = generate_additional_insights(transcription_text)\n",
        "print(\"Insights Adicionales:\\n\", additional_insights)\n"
      ]
    }
  ],
  "metadata": {
    "accelerator": "GPU",
    "colab": {
      "gpuType": "A100",
      "machine_shape": "hm",
      "provenance": [],
      "authorship_tag": "ABX9TyPTxUMdDBnCSqlzUli/ZlWt",
      "include_colab_link": true
    },
    "kernelspec": {
      "display_name": "Python 3",
      "name": "python3"
    },
    "language_info": {
      "name": "python"
    }
  },
  "nbformat": 4,
  "nbformat_minor": 0
}